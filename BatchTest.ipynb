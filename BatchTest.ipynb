{
 "cells": [
  {
   "cell_type": "code",
   "execution_count": 7,
   "metadata": {
    "collapsed": true
   },
   "outputs": [],
   "source": [
    "import numpy as np\n",
    "import matplotlib.pyplot as plt\n",
    "import matplotlib"
   ]
  },
  {
   "cell_type": "code",
   "execution_count": 9,
   "metadata": {},
   "outputs": [],
   "source": [
    "import pandas as pd\n",
    "import numpy as np\n",
    "import matplotlib.pyplot as plt\n",
    "import csv\n",
    "import scipy.stats\n",
    "\n",
    "\n",
    "df = pd.read_csv('TuberWeights_13.07.18.csv')\n",
    "df_soraya = df.loc[df['Variety'] == 'Soraya'].copy()\n",
    "df_venezia = df.loc[df['Variety'] == 'Venezia'].copy()\n",
    "\n",
    "df_soraya = df_soraya[['MidSize', 'TuberWeight', 'CubeRoot']]\n",
    "df_venezia = df_venezia[['MidSize', 'TuberWeight', 'CubeRoot']]\n",
    "\n",
    "def extract_samples(df, elem='TuberWeight'):\n",
    "    samples = {}\n",
    "    for mid_size, tuber_weight in zip(df['MidSize'], df[elem]):\n",
    "        if mid_size in samples:\n",
    "            samples[mid_size].append(tuber_weight)\n",
    "        else:\n",
    "            samples[mid_size] = [tuber_weight]\n",
    "    return samples\n",
    "\n",
    "samples_soraya_w = extract_samples(df_soraya)\n",
    "samples_soraya_cr = extract_samples(df_soraya, 'CubeRoot')\n",
    "\n",
    "samples_venezia_w = extract_samples(df_venezia)\n",
    "samples_venezia_cr = extract_samples(df_venezia, 'CubeRoot')\n",
    "        \n",
    "true_dist_soraya = [(x, len(samples_soraya_w[x])) for x in samples_soraya_w]\n",
    "true_dist_venezia = [(x, len(samples_venezia_w[x])) for x in samples_venezia_w]\n"
   ]
  },
  {
   "cell_type": "code",
   "execution_count": 11,
   "metadata": {
    "collapsed": true
   },
   "outputs": [],
   "source": [
    "def create_batches(list_in, alpha=0, theta=1):\n",
    "    current_index = 0\n",
    "    batch_list = []\n",
    "    \n",
    "    assert (0 <= alpha and alpha < 1) and theta > -alpha\n",
    "    for n, weight in enumerate(list_in):\n",
    "        p = np.random.binomial(1, p=(theta+len(batch_list)*alpha)/(n+theta))\n",
    "        if(p == 1):\n",
    "            batch_list.append([weight])\n",
    "        else:\n",
    "            probabilities = np.asarray([len(x)-alpha for x in batch_list], dtype='float32')\n",
    "            probabilities = probabilities/probabilities.sum()\n",
    "            table = np.random.choice(range(len(batch_list)), 1, p=probabilities)[0]\n",
    "            batch_list[table].append(weight)\n",
    "    batch_list = [(len(x), np.sum(x)) for x in batch_list]\n",
    "    return batch_list\n",
    "\n",
    "# print(create_batches(samples_soraya_w[17.5], alpha=0.2))\n",
    "\n",
    "band_to_samples_soraya_w = dict([(x, create_batches(samples_soraya_w[x], alpha=0.2)) for x in samples_soraya_w])\n",
    "band_to_samples_soraya_cr = dict([(x, create_batches(samples_soraya_cr[x], alpha=0.2)) for x in samples_soraya_cr])\n",
    "\n",
    "band_to_samples_venezia_w = dict([(x, create_batches(samples_venezia_w[x], alpha=0.2)) for x in samples_venezia_w])\n",
    "band_to_samples_venezia_cr = dict([(x, create_batches(samples_venezia_cr[x], alpha=0.2)) for x in samples_venezia_cr])\n"
   ]
  },
  {
   "cell_type": "code",
   "execution_count": 12,
   "metadata": {
    "collapsed": true
   },
   "outputs": [],
   "source": [
    "# print(samples_soraya_w)\n",
    "from sklearn.linear_model import LinearRegression\n",
    "from sklearn.gaussian_process import GaussianProcessRegressor\n",
    "from sklearn.gaussian_process.kernels import RBF, ConstantKernel as C, DotProduct\n"
   ]
  },
  {
   "cell_type": "code",
   "execution_count": 20,
   "metadata": {},
   "outputs": [
    {
     "data": {
      "image/png": "[encoded data removed]",
      "text/plain": [
       "<matplotlib.figure.Figure at 0x112d656a0>"
      ]
     },
     "metadata": {},
     "output_type": "display_data"
    },
    {
     "name": "stdout",
     "output_type": "stream",
     "text": [
      "[[0.09416104]] [-0.12352474]\n"
     ]
    },
    {
     "ename": "AttributeError",
     "evalue": "'GaussianProcessRegressor' object has no attribute 'alpha_'",
     "output_type": "error",
     "traceback": [
      "\u001b[0;31m---------------------------------------------------------------------------\u001b[0m",
      "\u001b[0;31mAttributeError\u001b[0m                            Traceback (most recent call last)",
      "\u001b[0;32m<ipython-input-20-5819b403c9f1>\u001b[0m in \u001b[0;36m<module>\u001b[0;34m()\u001b[0m\n\u001b[1;32m     16\u001b[0m \u001b[0;34m\u001b[0m\u001b[0m\n\u001b[1;32m     17\u001b[0m \u001b[0mx_plt\u001b[0m \u001b[0;34m=\u001b[0m \u001b[0mnp\u001b[0m\u001b[0;34m.\u001b[0m\u001b[0matleast_2d\u001b[0m\u001b[0;34m(\u001b[0m\u001b[0mnp\u001b[0m\u001b[0;34m.\u001b[0m\u001b[0mlinspace\u001b[0m\u001b[0;34m(\u001b[0m\u001b[0;36m0\u001b[0m\u001b[0;34m,\u001b[0m \u001b[0;36m80\u001b[0m\u001b[0;34m,\u001b[0m \u001b[0;36m1000\u001b[0m\u001b[0;34m)\u001b[0m\u001b[0;34m)\u001b[0m\u001b[0;34m.\u001b[0m\u001b[0mT\u001b[0m\u001b[0;34m\u001b[0m\u001b[0m\n\u001b[0;32m---> 18\u001b[0;31m \u001b[0my_pred\u001b[0m\u001b[0;34m,\u001b[0m \u001b[0msigma\u001b[0m \u001b[0;34m=\u001b[0m \u001b[0mgp\u001b[0m\u001b[0;34m.\u001b[0m\u001b[0mpredict\u001b[0m\u001b[0;34m(\u001b[0m\u001b[0mx_plt\u001b[0m\u001b[0;34m,\u001b[0m \u001b[0mreturn_std\u001b[0m\u001b[0;34m=\u001b[0m\u001b[0;32mTrue\u001b[0m\u001b[0;34m)\u001b[0m\u001b[0;34m\u001b[0m\u001b[0m\n\u001b[0m\u001b[1;32m     19\u001b[0m \u001b[0msigma\u001b[0m \u001b[0;34m=\u001b[0m \u001b[0msigma\u001b[0m\u001b[0;34m.\u001b[0m\u001b[0mreshape\u001b[0m\u001b[0;34m(\u001b[0m\u001b[0;34m-\u001b[0m\u001b[0;36m1\u001b[0m\u001b[0;34m,\u001b[0m \u001b[0;36m1\u001b[0m\u001b[0;34m)\u001b[0m\u001b[0;34m\u001b[0m\u001b[0m\n\u001b[1;32m     20\u001b[0m \u001b[0mplt\u001b[0m\u001b[0;34m.\u001b[0m\u001b[0mscatter\u001b[0m\u001b[0;34m(\u001b[0m\u001b[0mx\u001b[0m\u001b[0;34m,\u001b[0m\u001b[0my\u001b[0m\u001b[0;34m)\u001b[0m\u001b[0;34m\u001b[0m\u001b[0m\n",
      "\u001b[0;32m/Users/muntazirabidi/anaconda/lib/python3.5/site-packages/sklearn/gaussian_process/gpr.py\u001b[0m in \u001b[0;36mpredict\u001b[0;34m(self, X, return_std, return_cov)\u001b[0m\n\u001b[1;32m    287\u001b[0m         \u001b[0;32melse\u001b[0m\u001b[0;34m:\u001b[0m  \u001b[0;31m# Predict based on GP posterior\u001b[0m\u001b[0;34m\u001b[0m\u001b[0m\n\u001b[1;32m    288\u001b[0m             \u001b[0mK_trans\u001b[0m \u001b[0;34m=\u001b[0m \u001b[0mself\u001b[0m\u001b[0;34m.\u001b[0m\u001b[0mkernel_\u001b[0m\u001b[0;34m(\u001b[0m\u001b[0mX\u001b[0m\u001b[0;34m,\u001b[0m \u001b[0mself\u001b[0m\u001b[0;34m.\u001b[0m\u001b[0mX_train_\u001b[0m\u001b[0;34m)\u001b[0m\u001b[0;34m\u001b[0m\u001b[0m\n\u001b[0;32m--> 289\u001b[0;31m             \u001b[0my_mean\u001b[0m \u001b[0;34m=\u001b[0m \u001b[0mK_trans\u001b[0m\u001b[0;34m.\u001b[0m\u001b[0mdot\u001b[0m\u001b[0;34m(\u001b[0m\u001b[0mself\u001b[0m\u001b[0;34m.\u001b[0m\u001b[0malpha_\u001b[0m\u001b[0;34m)\u001b[0m  \u001b[0;31m# Line 4 (y_mean = f_star)\u001b[0m\u001b[0;34m\u001b[0m\u001b[0m\n\u001b[0m\u001b[1;32m    290\u001b[0m             \u001b[0my_mean\u001b[0m \u001b[0;34m=\u001b[0m \u001b[0mself\u001b[0m\u001b[0;34m.\u001b[0m\u001b[0my_train_mean\u001b[0m \u001b[0;34m+\u001b[0m \u001b[0my_mean\u001b[0m  \u001b[0;31m# undo normal.\u001b[0m\u001b[0;34m\u001b[0m\u001b[0m\n\u001b[1;32m    291\u001b[0m             \u001b[0;32mif\u001b[0m \u001b[0mreturn_cov\u001b[0m\u001b[0;34m:\u001b[0m\u001b[0;34m\u001b[0m\u001b[0m\n",
      "\u001b[0;31mAttributeError\u001b[0m: 'GaussianProcessRegressor' object has no attribute 'alpha_'"
     ]
    }
   ],
   "source": [
    "x = []\n",
    "y = []\n",
    "for key in samples_soraya_w:\n",
    "    x += [key]*len(samples_soraya_w[key])\n",
    "    y += map(lambda x: x**(1/3), samples_soraya_w[key])\n",
    "plt.scatter(x,y)\n",
    "plt.show()\n",
    "\n",
    "x = np.asarray(x).reshape(-1,1)\n",
    "y = np.asarray(y).reshape(-1,1)\n",
    "\n",
    "regr = LinearRegression()\n",
    "regr.fit(x,y)\n",
    "print(regr.coef_, regr.intercept_)\n",
    "\n",
    "\n",
    "x_plt = np.atleast_2d(np.linspace(0, 80, 1000)).T\n",
    "y_pred, sigma = gp.predict(x_plt, return_std=True)\n",
    "sigma = sigma.reshape(-1, 1)\n",
    "plt.scatter(x,y)\n",
    "plt.plot(x_plt, y_pred, 'b-', label=u'Prediction')\n",
    "plt.ylim(-5, 10)\n",
    "plt.fill(np.concatenate([x_plt, x_plt[::-1]]),\n",
    "         np.concatenate([y_pred - 1.9600 * sigma,\n",
    "                        (y_pred + 1.9600 * sigma)[::-1]]),)\n",
    "\n",
    "\n",
    "plt.show()\n"
   ]
  },
  {
   "cell_type": "code",
   "execution_count": 16,
   "metadata": {
    "collapsed": true
   },
   "outputs": [],
   "source": [
    "def pi_estimate(band_to_samples, smoothing=0):\n",
    "    pi_sum = {}\n",
    "    num_potatoes = 0\n",
    "    for band in band_to_samples:\n",
    "        total_sum = 0\n",
    "        for (batch_size, batch_weight) in band_to_samples[band]:\n",
    "            total_sum += batch_size\n",
    "        pi_sum[band] = total_sum+smoothing\n",
    "        num_potatoes += total_sum+smoothing\n",
    "    pi_dist = {}\n",
    "    for band in pi_sum:\n",
    "        pi_dist[band] = pi_sum[band]/num_potatoes\n",
    "    return pi_dist\n",
    "\n",
    "def estimate_mu(band_to_samples):\n",
    "    mu = {}\n",
    "    for band in band_to_samples:\n",
    "        total_weight = 0\n",
    "        total_potatoes = 0\n",
    "        for (batch_size, batch_weight) in band_to_samples[band]:\n",
    "            total_weight += batch_weight\n",
    "            total_potatoes += batch_size\n",
    "        mu[band] = total_weight/total_potatoes\n",
    "    return mu\n",
    "\n",
    "def estimate_var(band_to_samples, mu_estimate):\n",
    "    var = {}\n",
    "    for band in band_to_samples:\n",
    "        square_diff_sum = 0 \n",
    "        for (batch_size, batch_weight) in band_to_samples[band]:\n",
    "            square_diff_sum += (batch_weight - batch_size*mu_estimate[band])**2/batch_size\n",
    "        var[band] = max(square_diff_sum/len(band_to_samples[band]), 1e-2)\n",
    "    return var\n",
    "\n",
    "\n",
    "def get_posterior(weight, band_to_samples, pi_estimate, mu_estimate, var_estimate):\n",
    "    post_prop = {}\n",
    "    sum_post = 0\n",
    "    post = {}\n",
    "    for band in band_to_samples:\n",
    "        norm_dist = scipy.stats.norm(mu_estimate[band], var_estimate[band]**(1/2))\n",
    "        post_prop[band] = norm_dist.pdf(weight)*pi_estimate[band]\n",
    "        sum_post += post_prop[band]\n",
    "\n",
    "    for band in post_prop:\n",
    "        post[band] = post_prop[band]/sum_post\n",
    "    return post\n",
    "\n",
    "def get_argmax(posterior):\n",
    "    key_max = None\n",
    "    max_value = 0.0\n",
    "    for band in posterior:\n",
    "        if posterior[band] > max_value:\n",
    "            max_value = posterior[band]\n",
    "            key_max = band\n",
    "    return key_max\n",
    "\n",
    "def kl(p, q):\n",
    "    \"\"\"Kullback-Leibler divergence D(P || Q) for discrete distributions\n",
    "    Parameters\n",
    "    ----------\n",
    "    p, q : array-like, dtype=float, shape=n\n",
    "    Discrete probability distributions.\n",
    "    \"\"\"\n",
    "    p = np.asarray(p, dtype=np.float)\n",
    "    q = np.asarray(q, dtype=np.float)\n",
    "\n",
    "    return np.sum(np.where(p != 0, p * np.log(p / q), 0))\n",
    "\n",
    "def calculate_KL(y_pred, y_true):\n",
    "    y_pred = dict(y_pred)\n",
    "    y_true = dict(y_true)\n",
    "    \n",
    "    y_pred_dist = []\n",
    "    y_true_dist = []\n",
    "    \n",
    "    for i in y_pred:\n",
    "        y_pred_dist.append(y_pred[i])\n",
    "        y_true_dist.append(y_true[i])\n",
    "        \n",
    "    y_pred_dist = np.asarray(y_pred_dist)\n",
    "    y_pred_dist = y_pred_dist/y_pred_dist.sum()\n",
    "    \n",
    "    y_true_dist = np.asarray(y_true_dist)\n",
    "    y_true_dist = y_true_dist/y_true_dist.sum()\n",
    "    \n",
    "    return kl(y_true_dist, y_pred_dist)\n",
    "\n",
    "def calculate_W(y_pred, y_true):\n",
    "    y_pred = dict(y_pred)\n",
    "    y_true = dict(y_true)\n",
    "    \n",
    "    y_pred_dist = []\n",
    "    y_true_dist = []\n",
    "    \n",
    "    for i in y_pred:\n",
    "        y_pred_dist.append(y_pred[i])\n",
    "        y_true_dist.append(y_true[i])\n",
    "        \n",
    "    y_pred_dist = np.asarray(y_pred_dist)\n",
    "    y_pred_dist = y_pred_dist/y_pred_dist.sum()\n",
    "    \n",
    "    y_true_dist = np.asarray(y_true_dist)\n",
    "    y_true_dist = y_true_dist/y_true_dist.sum()\n",
    "    \n",
    "    return scipy.stats.wasserstein_distance(y_true_dist, y_pred_dist)\n",
    "\n"
   ]
  },
  {
   "cell_type": "code",
   "execution_count": 17,
   "metadata": {
    "collapsed": true
   },
   "outputs": [],
   "source": [
    "def get_pseudo_counts(band_to_samples, count_df):\n",
    "    pi = pi_estimate(band_to_samples, smoothing=0)\n",
    "    mu = estimate_mu(band_to_samples)\n",
    "    var = estimate_var(band_to_samples, mu)\n",
    "    \n",
    "    potato_counts = {}\n",
    "\n",
    "    for weight in count_df:\n",
    "        posterior = get_posterior(weight, band_to_samples, pi, mu, var)\n",
    "        for band in posterior:\n",
    "            if band in potato_counts:\n",
    "                potato_counts[band]+= posterior[band]\n",
    "            else:\n",
    "                potato_counts[band] = posterior[band]\n",
    "    return potato_counts"
   ]
  },
  {
   "cell_type": "code",
   "execution_count": 18,
   "metadata": {},
   "outputs": [
    {
     "name": "stdout",
     "output_type": "stream",
     "text": [
      "True Distribution : \n",
      " {32.5: 54, 17.5: 28, 37.5: 63, 22.5: 59, 42.5: 25, 27.5: 72, 47.5: 2}\n",
      "\n",
      "Estimated distribution based on TuborWeight :\n",
      " {32.5: 47.959192122322094, 17.5: 22.42807041430295, 37.5: 64.22280774780272, 22.5: 68.53141808397011, 42.5: 26.173422730695073, 27.5: 71.57400661492703, 47.5: 2.1110822859800504}\n",
      "KL Divergence of categorical distribution :\n",
      " 0.005758983460866175\n"
     ]
    },
    {
     "ename": "AttributeError",
     "evalue": "module 'scipy.stats' has no attribute 'wasserstein_distance'",
     "output_type": "error",
     "traceback": [
      "\u001b[0;31m---------------------------------------------------------------------------\u001b[0m",
      "\u001b[0;31mAttributeError\u001b[0m                            Traceback (most recent call last)",
      "\u001b[0;32m<ipython-input-18-f470b1a41d06>\u001b[0m in \u001b[0;36m<module>\u001b[0;34m()\u001b[0m\n\u001b[1;32m      6\u001b[0m \u001b[0mprint\u001b[0m\u001b[0;34m(\u001b[0m\u001b[0;34m'Estimated distribution based on TuborWeight :\\n'\u001b[0m\u001b[0;34m,\u001b[0m \u001b[0mpseudo_v_w\u001b[0m\u001b[0;34m)\u001b[0m\u001b[0;34m\u001b[0m\u001b[0m\n\u001b[1;32m      7\u001b[0m \u001b[0mprint\u001b[0m\u001b[0;34m(\u001b[0m\u001b[0;34m'KL Divergence of categorical distribution :\\n'\u001b[0m\u001b[0;34m,\u001b[0m \u001b[0mcalculate_KL\u001b[0m\u001b[0;34m(\u001b[0m\u001b[0mpseudo_v_w\u001b[0m\u001b[0;34m,\u001b[0m \u001b[0mtrue_dist_venezia\u001b[0m\u001b[0;34m)\u001b[0m\u001b[0;34m)\u001b[0m\u001b[0;34m\u001b[0m\u001b[0m\n\u001b[0;32m----> 8\u001b[0;31m \u001b[0mprint\u001b[0m\u001b[0;34m(\u001b[0m\u001b[0;34m'W Distance of categorical distribution :\\n'\u001b[0m\u001b[0;34m,\u001b[0m \u001b[0mcalculate_W\u001b[0m\u001b[0;34m(\u001b[0m\u001b[0mpseudo_v_w\u001b[0m\u001b[0;34m,\u001b[0m \u001b[0mtrue_dist_venezia\u001b[0m\u001b[0;34m)\u001b[0m\u001b[0;34m)\u001b[0m\u001b[0;34m\u001b[0m\u001b[0m\n\u001b[0m\u001b[1;32m      9\u001b[0m \u001b[0mprint\u001b[0m\u001b[0;34m(\u001b[0m\u001b[0;34m)\u001b[0m\u001b[0;34m\u001b[0m\u001b[0m\n\u001b[1;32m     10\u001b[0m \u001b[0mprint\u001b[0m\u001b[0;34m(\u001b[0m\u001b[0;34m'Estimated distribution based on CubeRoot :\\n'\u001b[0m\u001b[0;34m,\u001b[0m \u001b[0mpseudo_v_cr\u001b[0m\u001b[0;34m)\u001b[0m\u001b[0;34m\u001b[0m\u001b[0m\n",
      "\u001b[0;32m<ipython-input-16-1a82ea9a74be>\u001b[0m in \u001b[0;36mcalculate_W\u001b[0;34m(y_pred, y_true)\u001b[0m\n\u001b[1;32m    104\u001b[0m     \u001b[0my_true_dist\u001b[0m \u001b[0;34m=\u001b[0m \u001b[0my_true_dist\u001b[0m\u001b[0;34m/\u001b[0m\u001b[0my_true_dist\u001b[0m\u001b[0;34m.\u001b[0m\u001b[0msum\u001b[0m\u001b[0;34m(\u001b[0m\u001b[0;34m)\u001b[0m\u001b[0;34m\u001b[0m\u001b[0m\n\u001b[1;32m    105\u001b[0m \u001b[0;34m\u001b[0m\u001b[0m\n\u001b[0;32m--> 106\u001b[0;31m     \u001b[0;32mreturn\u001b[0m \u001b[0mscipy\u001b[0m\u001b[0;34m.\u001b[0m\u001b[0mstats\u001b[0m\u001b[0;34m.\u001b[0m\u001b[0mwasserstein_distance\u001b[0m\u001b[0;34m(\u001b[0m\u001b[0my_true_dist\u001b[0m\u001b[0;34m,\u001b[0m \u001b[0my_pred_dist\u001b[0m\u001b[0;34m)\u001b[0m\u001b[0;34m\u001b[0m\u001b[0m\n\u001b[0m\u001b[1;32m    107\u001b[0m \u001b[0;34m\u001b[0m\u001b[0m\n",
      "\u001b[0;31mAttributeError\u001b[0m: module 'scipy.stats' has no attribute 'wasserstein_distance'"
     ]
    }
   ],
   "source": [
    "pseudo_v_w = get_pseudo_counts(band_to_samples_venezia_w, df_venezia['TuberWeight'])\n",
    "pseudo_v_cr = get_pseudo_counts(band_to_samples_venezia_cr, df_venezia['CubeRoot'])\n",
    "\n",
    "print('True Distribution : \\n', dict(true_dist_venezia))\n",
    "print()\n",
    "print('Estimated distribution based on TuborWeight :\\n', pseudo_v_w)\n",
    "print('KL Divergence of categorical distribution :\\n', calculate_KL(pseudo_v_w, true_dist_venezia))\n",
    "print('W Distance of categorical distribution :\\n', calculate_W(pseudo_v_w, true_dist_venezia))\n",
    "print()\n",
    "print('Estimated distribution based on CubeRoot :\\n', pseudo_v_cr)\n",
    "print('KL Divergence of categorical distribution :\\n', calculate_KL(pseudo_v_cr, true_dist_venezia))\n",
    "print('W Distance of categorical distribution :\\n', calculate_W(pseudo_v_cr, true_dist_venezia))"
   ]
  },
  {
   "cell_type": "code",
   "execution_count": null,
   "metadata": {},
   "outputs": [],
   "source": [
    "for x in pseudo_v_w:\n",
    "    print(round(pseudo_v_cr[x],2))"
   ]
  },
  {
   "cell_type": "code",
   "execution_count": null,
   "metadata": {},
   "outputs": [],
   "source": [
    "pseudo_s_w = get_pseudo_counts(band_to_samples_soraya_w, df_soraya['TuberWeight'])\n",
    "pseudo_s_cr = get_pseudo_counts(band_to_samples_soraya_cr, df_soraya['CubeRoot'])\n",
    "\n",
    "print('True Distribution : \\n', dict(true_dist_soraya))\n",
    "print()\n",
    "print('Estimated distribution based on TuborWeight :\\n', pseudo_s_w)\n",
    "print('KL Divergence of categorical distribution :\\n', calculate_KL(pseudo_s_w, true_dist_soraya))\n",
    "print('W Distance of categorical distribution :\\n', calculate_W(pseudo_s_w, true_dist_soraya))\n",
    "\n",
    "print()\n",
    "print('Estimated distribution based on CubeRoot :\\n', pseudo_s_cr)\n",
    "print('KL Divergence of categorical distribution :\\n', calculate_KL(pseudo_s_cr, true_dist_soraya))\n",
    "print('W Distance of categorical distribution :\\n', calculate_W(pseudo_s_cr, true_dist_soraya))\n"
   ]
  },
  {
   "cell_type": "code",
   "execution_count": 63,
   "metadata": {},
   "outputs": [
    {
     "name": "stdout",
     "output_type": "stream",
     "text": [
      "9.34\n",
      "4.64\n",
      "2.02\n",
      "3.92\n",
      "13.24\n",
      "15.05\n",
      "41.88\n",
      "35.98\n",
      "25.63\n",
      "12.24\n",
      "1.06\n"
     ]
    }
   ],
   "source": []
  },
  {
   "cell_type": "code",
   "execution_count": null,
   "metadata": {
    "collapsed": true
   },
   "outputs": [],
   "source": []
  }
 ],
 "metadata": {
  "kernelspec": {
   "display_name": "Python [default]",
   "language": "python",
   "name": "python3"
  },
  "language_info": {
   "codemirror_mode": {
    "name": "ipython",
    "version": 3
   },
   "file_extension": ".py",
   "mimetype": "text/x-python",
   "name": "python",
   "nbconvert_exporter": "python",
   "pygments_lexer": "ipython3",
   "version": "3.5.3"
  }
 },
 "nbformat": 4,
 "nbformat_minor": 2
}
