{
 "cells": [
  {
   "cell_type": "code",
   "execution_count": 1,
   "metadata": {
    "collapsed": true
   },
   "outputs": [],
   "source": [
    "import numpy as np\n",
    "import matplotlib.pyplot as plt\n",
    "import matplotlib"
   ]
  },
  {
   "cell_type": "code",
   "execution_count": 2,
   "metadata": {},
   "outputs": [
    {
     "ename": "FileNotFoundError",
     "evalue": "File b'TuberWeights_13.07.18.csv' does not exist",
     "output_type": "error",
     "traceback": [
      "\u001b[0;31m---------------------------------------------------------------------------\u001b[0m",
      "\u001b[0;31mFileNotFoundError\u001b[0m                         Traceback (most recent call last)",
      "\u001b[0;32m<ipython-input-2-90539a49380f>\u001b[0m in \u001b[0;36m<module>\u001b[0;34m()\u001b[0m\n\u001b[1;32m      6\u001b[0m \u001b[0;34m\u001b[0m\u001b[0m\n\u001b[1;32m      7\u001b[0m \u001b[0;34m\u001b[0m\u001b[0m\n\u001b[0;32m----> 8\u001b[0;31m \u001b[0mdf\u001b[0m \u001b[0;34m=\u001b[0m \u001b[0mpd\u001b[0m\u001b[0;34m.\u001b[0m\u001b[0mread_csv\u001b[0m\u001b[0;34m(\u001b[0m\u001b[0;34m'TuberWeights_13.07.18.csv'\u001b[0m\u001b[0;34m)\u001b[0m\u001b[0;34m\u001b[0m\u001b[0m\n\u001b[0m\u001b[1;32m      9\u001b[0m \u001b[0mdf_soraya\u001b[0m \u001b[0;34m=\u001b[0m \u001b[0mdf\u001b[0m\u001b[0;34m.\u001b[0m\u001b[0mloc\u001b[0m\u001b[0;34m[\u001b[0m\u001b[0mdf\u001b[0m\u001b[0;34m[\u001b[0m\u001b[0;34m'Variety'\u001b[0m\u001b[0;34m]\u001b[0m \u001b[0;34m==\u001b[0m \u001b[0;34m'Soraya'\u001b[0m\u001b[0;34m]\u001b[0m\u001b[0;34m.\u001b[0m\u001b[0mcopy\u001b[0m\u001b[0;34m(\u001b[0m\u001b[0;34m)\u001b[0m\u001b[0;34m\u001b[0m\u001b[0m\n\u001b[1;32m     10\u001b[0m \u001b[0mdf_venezia\u001b[0m \u001b[0;34m=\u001b[0m \u001b[0mdf\u001b[0m\u001b[0;34m.\u001b[0m\u001b[0mloc\u001b[0m\u001b[0;34m[\u001b[0m\u001b[0mdf\u001b[0m\u001b[0;34m[\u001b[0m\u001b[0;34m'Variety'\u001b[0m\u001b[0;34m]\u001b[0m \u001b[0;34m==\u001b[0m \u001b[0;34m'Venezia'\u001b[0m\u001b[0;34m]\u001b[0m\u001b[0;34m.\u001b[0m\u001b[0mcopy\u001b[0m\u001b[0;34m(\u001b[0m\u001b[0;34m)\u001b[0m\u001b[0;34m\u001b[0m\u001b[0m\n",
      "\u001b[0;32m/Users/muntazirabidi/anaconda/lib/python3.5/site-packages/pandas/io/parsers.py\u001b[0m in \u001b[0;36mparser_f\u001b[0;34m(filepath_or_buffer, sep, delimiter, header, names, index_col, usecols, squeeze, prefix, mangle_dupe_cols, dtype, engine, converters, true_values, false_values, skipinitialspace, skiprows, nrows, na_values, keep_default_na, na_filter, verbose, skip_blank_lines, parse_dates, infer_datetime_format, keep_date_col, date_parser, dayfirst, iterator, chunksize, compression, thousands, decimal, lineterminator, quotechar, quoting, escapechar, comment, encoding, dialect, tupleize_cols, error_bad_lines, warn_bad_lines, skipfooter, skip_footer, doublequote, delim_whitespace, as_recarray, compact_ints, use_unsigned, low_memory, buffer_lines, memory_map, float_precision)\u001b[0m\n\u001b[1;32m    653\u001b[0m                     skip_blank_lines=skip_blank_lines)\n\u001b[1;32m    654\u001b[0m \u001b[0;34m\u001b[0m\u001b[0m\n\u001b[0;32m--> 655\u001b[0;31m         \u001b[0;32mreturn\u001b[0m \u001b[0m_read\u001b[0m\u001b[0;34m(\u001b[0m\u001b[0mfilepath_or_buffer\u001b[0m\u001b[0;34m,\u001b[0m \u001b[0mkwds\u001b[0m\u001b[0;34m)\u001b[0m\u001b[0;34m\u001b[0m\u001b[0m\n\u001b[0m\u001b[1;32m    656\u001b[0m \u001b[0;34m\u001b[0m\u001b[0m\n\u001b[1;32m    657\u001b[0m     \u001b[0mparser_f\u001b[0m\u001b[0;34m.\u001b[0m\u001b[0m__name__\u001b[0m \u001b[0;34m=\u001b[0m \u001b[0mname\u001b[0m\u001b[0;34m\u001b[0m\u001b[0m\n",
      "\u001b[0;32m/Users/muntazirabidi/anaconda/lib/python3.5/site-packages/pandas/io/parsers.py\u001b[0m in \u001b[0;36m_read\u001b[0;34m(filepath_or_buffer, kwds)\u001b[0m\n\u001b[1;32m    403\u001b[0m \u001b[0;34m\u001b[0m\u001b[0m\n\u001b[1;32m    404\u001b[0m     \u001b[0;31m# Create the parser.\u001b[0m\u001b[0;34m\u001b[0m\u001b[0;34m\u001b[0m\u001b[0m\n\u001b[0;32m--> 405\u001b[0;31m     \u001b[0mparser\u001b[0m \u001b[0;34m=\u001b[0m \u001b[0mTextFileReader\u001b[0m\u001b[0;34m(\u001b[0m\u001b[0mfilepath_or_buffer\u001b[0m\u001b[0;34m,\u001b[0m \u001b[0;34m**\u001b[0m\u001b[0mkwds\u001b[0m\u001b[0;34m)\u001b[0m\u001b[0;34m\u001b[0m\u001b[0m\n\u001b[0m\u001b[1;32m    406\u001b[0m \u001b[0;34m\u001b[0m\u001b[0m\n\u001b[1;32m    407\u001b[0m     \u001b[0;32mif\u001b[0m \u001b[0mchunksize\u001b[0m \u001b[0;32mor\u001b[0m \u001b[0miterator\u001b[0m\u001b[0;34m:\u001b[0m\u001b[0;34m\u001b[0m\u001b[0m\n",
      "\u001b[0;32m/Users/muntazirabidi/anaconda/lib/python3.5/site-packages/pandas/io/parsers.py\u001b[0m in \u001b[0;36m__init__\u001b[0;34m(self, f, engine, **kwds)\u001b[0m\n\u001b[1;32m    760\u001b[0m             \u001b[0mself\u001b[0m\u001b[0;34m.\u001b[0m\u001b[0moptions\u001b[0m\u001b[0;34m[\u001b[0m\u001b[0;34m'has_index_names'\u001b[0m\u001b[0;34m]\u001b[0m \u001b[0;34m=\u001b[0m \u001b[0mkwds\u001b[0m\u001b[0;34m[\u001b[0m\u001b[0;34m'has_index_names'\u001b[0m\u001b[0;34m]\u001b[0m\u001b[0;34m\u001b[0m\u001b[0m\n\u001b[1;32m    761\u001b[0m \u001b[0;34m\u001b[0m\u001b[0m\n\u001b[0;32m--> 762\u001b[0;31m         \u001b[0mself\u001b[0m\u001b[0;34m.\u001b[0m\u001b[0m_make_engine\u001b[0m\u001b[0;34m(\u001b[0m\u001b[0mself\u001b[0m\u001b[0;34m.\u001b[0m\u001b[0mengine\u001b[0m\u001b[0;34m)\u001b[0m\u001b[0;34m\u001b[0m\u001b[0m\n\u001b[0m\u001b[1;32m    763\u001b[0m \u001b[0;34m\u001b[0m\u001b[0m\n\u001b[1;32m    764\u001b[0m     \u001b[0;32mdef\u001b[0m \u001b[0mclose\u001b[0m\u001b[0;34m(\u001b[0m\u001b[0mself\u001b[0m\u001b[0;34m)\u001b[0m\u001b[0;34m:\u001b[0m\u001b[0;34m\u001b[0m\u001b[0m\n",
      "\u001b[0;32m/Users/muntazirabidi/anaconda/lib/python3.5/site-packages/pandas/io/parsers.py\u001b[0m in \u001b[0;36m_make_engine\u001b[0;34m(self, engine)\u001b[0m\n\u001b[1;32m    964\u001b[0m     \u001b[0;32mdef\u001b[0m \u001b[0m_make_engine\u001b[0m\u001b[0;34m(\u001b[0m\u001b[0mself\u001b[0m\u001b[0;34m,\u001b[0m \u001b[0mengine\u001b[0m\u001b[0;34m=\u001b[0m\u001b[0;34m'c'\u001b[0m\u001b[0;34m)\u001b[0m\u001b[0;34m:\u001b[0m\u001b[0;34m\u001b[0m\u001b[0m\n\u001b[1;32m    965\u001b[0m         \u001b[0;32mif\u001b[0m \u001b[0mengine\u001b[0m \u001b[0;34m==\u001b[0m \u001b[0;34m'c'\u001b[0m\u001b[0;34m:\u001b[0m\u001b[0;34m\u001b[0m\u001b[0m\n\u001b[0;32m--> 966\u001b[0;31m             \u001b[0mself\u001b[0m\u001b[0;34m.\u001b[0m\u001b[0m_engine\u001b[0m \u001b[0;34m=\u001b[0m \u001b[0mCParserWrapper\u001b[0m\u001b[0;34m(\u001b[0m\u001b[0mself\u001b[0m\u001b[0;34m.\u001b[0m\u001b[0mf\u001b[0m\u001b[0;34m,\u001b[0m \u001b[0;34m**\u001b[0m\u001b[0mself\u001b[0m\u001b[0;34m.\u001b[0m\u001b[0moptions\u001b[0m\u001b[0;34m)\u001b[0m\u001b[0;34m\u001b[0m\u001b[0m\n\u001b[0m\u001b[1;32m    967\u001b[0m         \u001b[0;32melse\u001b[0m\u001b[0;34m:\u001b[0m\u001b[0;34m\u001b[0m\u001b[0m\n\u001b[1;32m    968\u001b[0m             \u001b[0;32mif\u001b[0m \u001b[0mengine\u001b[0m \u001b[0;34m==\u001b[0m \u001b[0;34m'python'\u001b[0m\u001b[0;34m:\u001b[0m\u001b[0;34m\u001b[0m\u001b[0m\n",
      "\u001b[0;32m/Users/muntazirabidi/anaconda/lib/python3.5/site-packages/pandas/io/parsers.py\u001b[0m in \u001b[0;36m__init__\u001b[0;34m(self, src, **kwds)\u001b[0m\n\u001b[1;32m   1580\u001b[0m         \u001b[0mkwds\u001b[0m\u001b[0;34m[\u001b[0m\u001b[0;34m'allow_leading_cols'\u001b[0m\u001b[0;34m]\u001b[0m \u001b[0;34m=\u001b[0m \u001b[0mself\u001b[0m\u001b[0;34m.\u001b[0m\u001b[0mindex_col\u001b[0m \u001b[0;32mis\u001b[0m \u001b[0;32mnot\u001b[0m \u001b[0;32mFalse\u001b[0m\u001b[0;34m\u001b[0m\u001b[0m\n\u001b[1;32m   1581\u001b[0m \u001b[0;34m\u001b[0m\u001b[0m\n\u001b[0;32m-> 1582\u001b[0;31m         \u001b[0mself\u001b[0m\u001b[0;34m.\u001b[0m\u001b[0m_reader\u001b[0m \u001b[0;34m=\u001b[0m \u001b[0mparsers\u001b[0m\u001b[0;34m.\u001b[0m\u001b[0mTextReader\u001b[0m\u001b[0;34m(\u001b[0m\u001b[0msrc\u001b[0m\u001b[0;34m,\u001b[0m \u001b[0;34m**\u001b[0m\u001b[0mkwds\u001b[0m\u001b[0;34m)\u001b[0m\u001b[0;34m\u001b[0m\u001b[0m\n\u001b[0m\u001b[1;32m   1583\u001b[0m \u001b[0;34m\u001b[0m\u001b[0m\n\u001b[1;32m   1584\u001b[0m         \u001b[0;31m# XXX\u001b[0m\u001b[0;34m\u001b[0m\u001b[0;34m\u001b[0m\u001b[0m\n",
      "\u001b[0;32mpandas/_libs/parsers.pyx\u001b[0m in \u001b[0;36mpandas._libs.parsers.TextReader.__cinit__ (pandas/_libs/parsers.c:4209)\u001b[0;34m()\u001b[0m\n",
      "\u001b[0;32mpandas/_libs/parsers.pyx\u001b[0m in \u001b[0;36mpandas._libs.parsers.TextReader._setup_parser_source (pandas/_libs/parsers.c:8873)\u001b[0;34m()\u001b[0m\n",
      "\u001b[0;31mFileNotFoundError\u001b[0m: File b'TuberWeights_13.07.18.csv' does not exist"
     ]
    }
   ],
   "source": [
    "import pandas as pd\n",
    "import numpy as np\n",
    "import matplotlib.pyplot as plt\n",
    "import csv\n",
    "import scipy.stats\n",
    "\n",
    "\n",
    "df = pd.read_csv('TuberWeights_13.07.18.csv')\n",
    "df_soraya = df.loc[df['Variety'] == 'Soraya'].copy()\n",
    "df_venezia = df.loc[df['Variety'] == 'Venezia'].copy()\n",
    "\n",
    "df_soraya = df_soraya[['MidSize', 'TuberWeight', 'CubeRoot']]\n",
    "df_venezia = df_venezia[['MidSize', 'TuberWeight', 'CubeRoot']]\n",
    "\n",
    "def extract_samples(df, elem='TuberWeight'):\n",
    "    samples = {}\n",
    "    for mid_size, tuber_weight in zip(df['MidSize'], df[elem]):\n",
    "        if mid_size in samples:\n",
    "            samples[mid_size].append(tuber_weight)\n",
    "        else:\n",
    "            samples[mid_size] = [tuber_weight]\n",
    "    return samples\n",
    "\n",
    "samples_soraya_w = extract_samples(df_soraya)\n",
    "samples_soraya_cr = extract_samples(df_soraya, 'CubeRoot')\n",
    "\n",
    "samples_venezia_w = extract_samples(df_venezia)\n",
    "samples_venezia_cr = extract_samples(df_venezia, 'CubeRoot')\n",
    "        \n",
    "true_dist_soraya = [(x, len(samples_soraya_w[x])) for x in samples_soraya_w]\n",
    "true_dist_venezia = [(x, len(samples_venezia_w[x])) for x in samples_venezia_w]\n"
   ]
  },
  {
   "cell_type": "code",
   "execution_count": 35,
   "metadata": {
    "collapsed": true
   },
   "outputs": [],
   "source": [
    "def create_batches(list_in, alpha=0, theta=1):\n",
    "    current_index = 0\n",
    "    batch_list = []\n",
    "    \n",
    "    assert (0 <= alpha and alpha < 1) and theta > -alpha\n",
    "    for n, weight in enumerate(list_in):\n",
    "        p = np.random.binomial(1, p=(theta+len(batch_list)*alpha)/(n+theta))\n",
    "        if(p == 1):\n",
    "            batch_list.append([weight])\n",
    "        else:\n",
    "            probabilities = np.asarray([len(x)-alpha for x in batch_list], dtype='float32')\n",
    "            probabilities = probabilities/probabilities.sum()\n",
    "            table = np.random.choice(range(len(batch_list)), 1, p=probabilities)[0]\n",
    "            batch_list[table].append(weight)\n",
    "    batch_list = [(len(x), np.sum(x)) for x in batch_list]\n",
    "    return batch_list\n",
    "\n",
    "# print(create_batches(samples_soraya_w[17.5], alpha=0.2))\n",
    "\n",
    "band_to_samples_soraya_w = dict([(x, create_batches(samples_soraya_w[x], alpha=0.2)) for x in samples_soraya_w])\n",
    "band_to_samples_soraya_cr = dict([(x, create_batches(samples_soraya_cr[x], alpha=0.2)) for x in samples_soraya_cr])\n",
    "\n",
    "band_to_samples_venezia_w = dict([(x, create_batches(samples_venezia_w[x], alpha=0.2)) for x in samples_venezia_w])\n",
    "band_to_samples_venezia_cr = dict([(x, create_batches(samples_venezia_cr[x], alpha=0.2)) for x in samples_venezia_cr])\n"
   ]
  },
  {
   "cell_type": "code",
   "execution_count": 22,
   "metadata": {
    "collapsed": true
   },
   "outputs": [],
   "source": [
    "# print(samples_soraya_w)\n",
    "from sklearn.linear_model import LinearRegression\n",
    "from sklearn.gaussian_process import GaussianProcessRegressor\n",
    "from sklearn.gaussian_process.kernels import RBF, ConstantKernel as C, DotProduct\n"
   ]
  },
  {
   "cell_type": "code",
   "execution_count": 23,
   "metadata": {},
   "outputs": [
    {
     "data": {
      "image/png": "[encoded data removed]",
      "text/plain": [
       "<matplotlib.figure.Figure at 0x10879b240>"
      ]
     },
     "metadata": {},
     "output_type": "display_data"
    },
    {
     "name": "stdout",
     "output_type": "stream",
     "text": [
      "[[ 0.09416104]] [-0.12352474]\n"
     ]
    },
    {
     "name": "stderr",
     "output_type": "stream",
     "text": [
      "/usr/local/lib/python3.6/site-packages/sklearn/gaussian_process/gpr.py:335: UserWarning: Predicted variances smaller than 0. Setting those variances to 0.\n",
      "  warnings.warn(\"Predicted variances smaller than 0. \"\n"
     ]
    },
    {
     "data": {
      "image/png": "[encoded data removed]",
      "text/plain": [
       "<matplotlib.figure.Figure at 0x1090eda90>"
      ]
     },
     "metadata": {},
     "output_type": "display_data"
    }
   ],
   "source": [
    "x = []\n",
    "y = []\n",
    "for key in samples_soraya_w:\n",
    "    x += [key]*len(samples_soraya_w[key])\n",
    "    y += map(lambda x: x**(1/3), samples_soraya_w[key])\n",
    "plt.scatter(x,y)\n",
    "plt.show()\n",
    "\n",
    "x = np.asarray(x).reshape(-1,1)\n",
    "y = np.asarray(y).reshape(-1,1)\n",
    "\n",
    "regr = LinearRegression()\n",
    "regr.fit(x,y)\n",
    "print(regr.coef_, regr.intercept_)\n",
    "\n",
    "gp = GaussianProcessRegressor(kernel=DotProduct(sigma_0=2.0), n_restarts_optimizer=10)\n",
    "\n",
    "gp.fit(np.asarray(x).reshape(-1, 1), np.asarray(y).reshape(-1, 1))\n",
    "\n",
    "x_plt = np.atleast_2d(np.linspace(0, 80, 1000)).T\n",
    "y_pred, sigma = gp.predict(x_plt, return_std=True)\n",
    "sigma = sigma.reshape(-1, 1)\n",
    "plt.scatter(x,y)\n",
    "plt.plot(x_plt, y_pred, 'b-', label=u'Prediction')\n",
    "plt.ylim(-5, 10)\n",
    "plt.fill(np.concatenate([x_plt, x_plt[::-1]]),\n",
    "         np.concatenate([y_pred - 1.9600 * sigma,\n",
    "                        (y_pred + 1.9600 * sigma)[::-1]]),)\n",
    "\n",
    "\n",
    "plt.show()\n"
   ]
  },
  {
   "cell_type": "code",
   "execution_count": 33,
   "metadata": {},
   "outputs": [
    {
     "name": "stderr",
     "output_type": "stream",
     "text": [
      "/usr/local/lib/python3.6/site-packages/sklearn/gaussian_process/gpr.py:457: UserWarning: fmin_l_bfgs_b terminated abnormally with the  state: {'grad': array([-8.875]), 'task': b'ABNORMAL_TERMINATION_IN_LNSRCH', 'funcalls': 57, 'nit': 3, 'warnflag': 2}\n",
      "  \" state: %s\" % convergence_dict)\n",
      "/usr/local/lib/python3.6/site-packages/sklearn/gaussian_process/gpr.py:335: UserWarning: Predicted variances smaller than 0. Setting those variances to 0.\n",
      "  warnings.warn(\"Predicted variances smaller than 0. \"\n"
     ]
    },
    {
     "data": {
      "image/png": "[encoded data removed]",
      "text/plain": [
       "<matplotlib.figure.Figure at 0x109171978>"
      ]
     },
     "metadata": {},
     "output_type": "display_data"
    },
    {
     "name": "stdout",
     "output_type": "stream",
     "text": [
      "[[ 0.09230165]] [-0.06753581]\n"
     ]
    }
   ],
   "source": [
    "x = []\n",
    "y = []\n",
    "for key in samples_soraya_w:\n",
    "    x += [key]\n",
    "    y.append((sum(list(map(lambda x: x, samples_soraya_w[key])))/len(samples_soraya_w[key]))**(1/3))\n",
    "    \n",
    "x = np.asarray(x).reshape(-1,1)\n",
    "y = np.asarray(y).reshape(-1,1)\n",
    "\n",
    "gp = GaussianProcessRegressor(kernel=DotProduct(sigma_0=0.45), n_restarts_optimizer=10)\n",
    "\n",
    "gp.fit(np.asarray(x).reshape(-1, 1), np.asarray(y).reshape(-1, 1))\n",
    "\n",
    "x_plt = np.atleast_2d(np.linspace(0, 80, 1000)).T\n",
    "y_pred, sigma = gp.predict(x_plt, return_std=True)\n",
    "sigma = sigma.reshape(-1, 1)\n",
    "plt.scatter(x,y, s=50, c='r')\n",
    "plt.plot(x_plt, y_pred, 'b-', label=u'Prediction')\n",
    "plt.ylim(-5, 10)\n",
    "plt.fill(np.concatenate([x_plt, x_plt[::-1]]),\n",
    "         np.concatenate([y_pred - 1.9600 * sigma,\n",
    "                        (y_pred + 1.9600 * sigma)[::-1]]),)\n",
    "\n",
    "plt.show()\n",
    "\n",
    "regr = LinearRegression()\n",
    "regr.fit(np.asarray(x).reshape(-1, 1), np.asarray(y).reshape(-1, 1))\n",
    "print(regr.coef_, regr.intercept_)"
   ]
  },
  {
   "cell_type": "code",
   "execution_count": 55,
   "metadata": {
    "collapsed": true
   },
   "outputs": [],
   "source": [
    "def pi_estimate(band_to_samples, smoothing=0):\n",
    "    pi_sum = {}\n",
    "    num_potatoes = 0\n",
    "    for band in band_to_samples:\n",
    "        total_sum = 0\n",
    "        for (batch_size, batch_weight) in band_to_samples[band]:\n",
    "            total_sum += batch_size\n",
    "        pi_sum[band] = total_sum+smoothing\n",
    "        num_potatoes += total_sum+smoothing\n",
    "    pi_dist = {}\n",
    "    for band in pi_sum:\n",
    "        pi_dist[band] = pi_sum[band]/num_potatoes\n",
    "    return pi_dist\n",
    "\n",
    "def estimate_mu(band_to_samples):\n",
    "    mu = {}\n",
    "    for band in band_to_samples:\n",
    "        total_weight = 0\n",
    "        total_potatoes = 0\n",
    "        for (batch_size, batch_weight) in band_to_samples[band]:\n",
    "            total_weight += batch_weight\n",
    "            total_potatoes += batch_size\n",
    "        mu[band] = total_weight/total_potatoes\n",
    "    return mu\n",
    "\n",
    "def estimate_var(band_to_samples, mu_estimate):\n",
    "    var = {}\n",
    "    for band in band_to_samples:\n",
    "        square_diff_sum = 0 \n",
    "        for (batch_size, batch_weight) in band_to_samples[band]:\n",
    "            square_diff_sum += (batch_weight - batch_size*mu_estimate[band])**2/batch_size\n",
    "        var[band] = max(square_diff_sum/len(band_to_samples[band]), 1e-2)\n",
    "    return var\n",
    "\n",
    "\n",
    "def get_posterior(weight, band_to_samples, pi_estimate, mu_estimate, var_estimate):\n",
    "    post_prop = {}\n",
    "    sum_post = 0\n",
    "    post = {}\n",
    "    for band in band_to_samples:\n",
    "        norm_dist = scipy.stats.norm(mu_estimate[band], var_estimate[band]**(1/2))\n",
    "        post_prop[band] = norm_dist.pdf(weight)*pi_estimate[band]\n",
    "        sum_post += post_prop[band]\n",
    "\n",
    "    for band in post_prop:\n",
    "        post[band] = post_prop[band]/sum_post\n",
    "    return post\n",
    "\n",
    "def get_argmax(posterior):\n",
    "    key_max = None\n",
    "    max_value = 0.0\n",
    "    for band in posterior:\n",
    "        if posterior[band] > max_value:\n",
    "            max_value = posterior[band]\n",
    "            key_max = band\n",
    "    return key_max\n",
    "\n",
    "def kl(p, q):\n",
    "    \"\"\"Kullback-Leibler divergence D(P || Q) for discrete distributions\n",
    "    Parameters\n",
    "    ----------\n",
    "    p, q : array-like, dtype=float, shape=n\n",
    "    Discrete probability distributions.\n",
    "    \"\"\"\n",
    "    p = np.asarray(p, dtype=np.float)\n",
    "    q = np.asarray(q, dtype=np.float)\n",
    "\n",
    "    return np.sum(np.where(p != 0, p * np.log(p / q), 0))\n",
    "\n",
    "def calculate_KL(y_pred, y_true):\n",
    "    y_pred = dict(y_pred)\n",
    "    y_true = dict(y_true)\n",
    "    \n",
    "    y_pred_dist = []\n",
    "    y_true_dist = []\n",
    "    \n",
    "    for i in y_pred:\n",
    "        y_pred_dist.append(y_pred[i])\n",
    "        y_true_dist.append(y_true[i])\n",
    "        \n",
    "    y_pred_dist = np.asarray(y_pred_dist)\n",
    "    y_pred_dist = y_pred_dist/y_pred_dist.sum()\n",
    "    \n",
    "    y_true_dist = np.asarray(y_true_dist)\n",
    "    y_true_dist = y_true_dist/y_true_dist.sum()\n",
    "    \n",
    "    return kl(y_true_dist, y_pred_dist)\n",
    "\n",
    "def calculate_W(y_pred, y_true):\n",
    "    y_pred = dict(y_pred)\n",
    "    y_true = dict(y_true)\n",
    "    \n",
    "    y_pred_dist = []\n",
    "    y_true_dist = []\n",
    "    \n",
    "    for i in y_pred:\n",
    "        y_pred_dist.append(y_pred[i])\n",
    "        y_true_dist.append(y_true[i])\n",
    "        \n",
    "    y_pred_dist = np.asarray(y_pred_dist)\n",
    "    y_pred_dist = y_pred_dist/y_pred_dist.sum()\n",
    "    \n",
    "    y_true_dist = np.asarray(y_true_dist)\n",
    "    y_true_dist = y_true_dist/y_true_dist.sum()\n",
    "    \n",
    "    return scipy.stats.wasserstein_distance(y_true_dist, y_pred_dist)\n",
    "\n"
   ]
  },
  {
   "cell_type": "code",
   "execution_count": 56,
   "metadata": {
    "collapsed": true
   },
   "outputs": [],
   "source": [
    "def get_pseudo_counts(band_to_samples, count_df):\n",
    "    pi = pi_estimate(band_to_samples, smoothing=0)\n",
    "    mu = estimate_mu(band_to_samples)\n",
    "    var = estimate_var(band_to_samples, mu)\n",
    "    \n",
    "    potato_counts = {}\n",
    "\n",
    "    for weight in count_df:\n",
    "        posterior = get_posterior(weight, band_to_samples, pi, mu, var)\n",
    "        for band in posterior:\n",
    "            if band in potato_counts:\n",
    "                potato_counts[band]+= posterior[band]\n",
    "            else:\n",
    "                potato_counts[band] = posterior[band]\n",
    "    return potato_counts"
   ]
  },
  {
   "cell_type": "code",
   "execution_count": 57,
   "metadata": {},
   "outputs": [
    {
     "name": "stdout",
     "output_type": "stream",
     "text": [
      "True Distribution : \n",
      " {17.5: 28, 22.5: 59, 27.5: 72, 32.5: 54, 37.5: 63, 42.5: 25, 47.5: 2}\n",
      "\n",
      "Estimated distribution based on TuborWeight :\n",
      " {17.5: 26.870576673341414, 22.5: 61.023965772208626, 27.5: 76.32950092256951, 32.5: 41.10413114277664, 37.5: 70.4808530211447, 42.5: 27.190972467959096, 47.5: 1.6143638852873784e-150}\n",
      "KL Divergence of categorical distribution :\n",
      " 2.2829322359399264\n",
      "W Distance of categorical distribution :\n",
      " 0.014808954633912543\n",
      "\n",
      "Estimated distribution based on CubeRoot :\n",
      " {17.5: 30.873252520808702, 22.5: 53.746416596272155, 27.5: 80.4873216877555, 32.5: 42.71441158231843, 37.5: 66.67151183037393, 42.5: 26.562363908785354, 47.5: 1.9447218736859675}\n",
      "KL Divergence of categorical distribution :\n",
      " 0.007842190690132363\n",
      "W Distance of categorical distribution :\n",
      " 0.01564776044104051\n"
     ]
    }
   ],
   "source": [
    "pseudo_v_w = get_pseudo_counts(band_to_samples_venezia_w, df_venezia['TuberWeight'])\n",
    "pseudo_v_cr = get_pseudo_counts(band_to_samples_venezia_cr, df_venezia['CubeRoot'])\n",
    "\n",
    "print('True Distribution : \\n', dict(true_dist_venezia))\n",
    "print()\n",
    "print('Estimated distribution based on TuborWeight :\\n', pseudo_v_w)\n",
    "print('KL Divergence of categorical distribution :\\n', calculate_KL(pseudo_v_w, true_dist_venezia))\n",
    "print('W Distance of categorical distribution :\\n', calculate_W(pseudo_v_w, true_dist_venezia))\n",
    "print()\n",
    "print('Estimated distribution based on CubeRoot :\\n', pseudo_v_cr)\n",
    "print('KL Divergence of categorical distribution :\\n', calculate_KL(pseudo_v_cr, true_dist_venezia))\n",
    "print('W Distance of categorical distribution :\\n', calculate_W(pseudo_v_cr, true_dist_venezia))"
   ]
  },
  {
   "cell_type": "code",
   "execution_count": 66,
   "metadata": {},
   "outputs": [
    {
     "name": "stdout",
     "output_type": "stream",
     "text": [
      "30.87\n",
      "53.75\n",
      "80.49\n",
      "42.71\n",
      "66.67\n",
      "26.56\n",
      "1.94\n"
     ]
    }
   ],
   "source": [
    "for x in pseudo_v_w:\n",
    "    print(round(pseudo_v_cr[x],2))"
   ]
  },
  {
   "cell_type": "code",
   "execution_count": 59,
   "metadata": {},
   "outputs": [
    {
     "name": "stdout",
     "output_type": "stream",
     "text": [
      "True Distribution : \n",
      " {17.5: 11, 22.5: 3, 27.5: 2, 32.5: 3, 37.5: 13, 42.5: 16, 47.5: 37, 52.5: 46, 57.5: 22, 62.5: 11, 67.5: 1}\n",
      "\n",
      "Estimated distribution based on TuborWeight :\n",
      " {17.5: 10.759406082964086, 22.5: 3.2509340202938404, 27.5: 1.500107259585127, 32.5: 3.9491272247045384, 37.5: 14.207404274656588, 42.5: 15.353980196160027, 47.5: 34.22395247551483, 52.5: 44.31947870555991, 57.5: 24.74723000928103, 62.5: 11.689772407610773, 67.5: 0.998607343669275}\n",
      "KL Divergence of categorical distribution :\n",
      " 0.003630350777927744\n",
      "W Distance of categorical distribution :\n",
      " 0.0064401850540460204\n",
      "\n",
      "Estimated distribution based on CubeRoot :\n",
      " {17.5: 9.341209068777237, 22.5: 4.6420718632899955, 27.5: 2.0169878797348617, 32.5: 3.920397409488778, 37.5: 13.24101268605029, 42.5: 15.045432193586851, 47.5: 41.87506031067342, 52.5: 35.97947366089835, 57.5: 25.632384600454095, 62.5: 12.243060596946329, 67.5: 1.0629097300998527}\n",
      "KL Divergence of categorical distribution :\n",
      " 0.015368694943750988\n",
      "W Distance of categorical distribution :\n",
      " 0.008549669163707089\n"
     ]
    }
   ],
   "source": [
    "pseudo_s_w = get_pseudo_counts(band_to_samples_soraya_w, df_soraya['TuberWeight'])\n",
    "pseudo_s_cr = get_pseudo_counts(band_to_samples_soraya_cr, df_soraya['CubeRoot'])\n",
    "\n",
    "print('True Distribution : \\n', dict(true_dist_soraya))\n",
    "print()\n",
    "print('Estimated distribution based on TuborWeight :\\n', pseudo_s_w)\n",
    "print('KL Divergence of categorical distribution :\\n', calculate_KL(pseudo_s_w, true_dist_soraya))\n",
    "print('W Distance of categorical distribution :\\n', calculate_W(pseudo_s_w, true_dist_soraya))\n",
    "\n",
    "print()\n",
    "print('Estimated distribution based on CubeRoot :\\n', pseudo_s_cr)\n",
    "print('KL Divergence of categorical distribution :\\n', calculate_KL(pseudo_s_cr, true_dist_soraya))\n",
    "print('W Distance of categorical distribution :\\n', calculate_W(pseudo_s_cr, true_dist_soraya))\n"
   ]
  },
  {
   "cell_type": "code",
   "execution_count": 63,
   "metadata": {},
   "outputs": [
    {
     "name": "stdout",
     "output_type": "stream",
     "text": [
      "9.34\n",
      "4.64\n",
      "2.02\n",
      "3.92\n",
      "13.24\n",
      "15.05\n",
      "41.88\n",
      "35.98\n",
      "25.63\n",
      "12.24\n",
      "1.06\n"
     ]
    }
   ],
   "source": []
  },
  {
   "cell_type": "code",
   "execution_count": null,
   "metadata": {
    "collapsed": true
   },
   "outputs": [],
   "source": []
  }
 ],
 "metadata": {
  "kernelspec": {
   "display_name": "Python [default]",
   "language": "python",
   "name": "python3"
  },
  "language_info": {
   "codemirror_mode": {
    "name": "ipython",
    "version": 3
   },
   "file_extension": ".py",
   "mimetype": "text/x-python",
   "name": "python",
   "nbconvert_exporter": "python",
   "pygments_lexer": "ipython3",
   "version": "3.5.3"
  }
 },
 "nbformat": 4,
 "nbformat_minor": 2
}
