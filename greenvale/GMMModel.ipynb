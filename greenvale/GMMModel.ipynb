{
 "cells": [
  {
   "cell_type": "code",
   "execution_count": 1,
   "metadata": {
    "collapsed": true
   },
   "outputs": [],
   "source": [
    "import numpy as np\n",
    "import matplotlib.pyplot as plt\n",
    "import matplotlib"
   ]
  },
  {
   "cell_type": "code",
   "execution_count": 2,
   "metadata": {
    "collapsed": true
   },
   "outputs": [],
   "source": [
    "from openpyxl.utils.dataframe import dataframe_to_rows\n",
    "from openpyxl import load_workbook\n",
    "# /https://openpyxl.readthedocs.io/\n",
    "import pandas as pd\n",
    "import numpy as np\n",
    "import matplotlib.pyplot as plt\n",
    "\n",
    "wb2 = load_workbook('SampleData_TuberWeight_CatalystAI.xlsx')\n",
    "\n",
    "df = pd.DataFrame(wb2['Sample Data (training)'].values)\n",
    "df = df.dropna()\n",
    "for index, row in df.iterrows():\n",
    "    if index == 0:\n",
    "        continue\n",
    "    row[6] = row[4]**(1/3)"
   ]
  },
  {
   "cell_type": "code",
   "execution_count": null,
   "metadata": {
    "collapsed": true
   },
   "outputs": [],
   "source": []
  },
  {
   "cell_type": "code",
   "execution_count": 3,
   "metadata": {},
   "outputs": [
    {
     "name": "stdout",
     "output_type": "stream",
     "text": [
      "2.917858471660255\n",
      "3.0421594221148744\n"
     ]
    }
   ],
   "source": [
    "batches = []\n",
    "sigma = 3\n",
    "counts = np.asarray(df.loc[df[1] == 30][2])\n",
    "\n",
    "rand_sample = sigma*np.random.randn(counts.sum())\n",
    "\n",
    "index = 0\n",
    "for c in counts:\n",
    "    batches.append(np.sum(rand_sample[index:index+c]))\n",
    "    index += c\n",
    "    \n",
    "sample_var = 0\n",
    "for sum_mass, num_potato in list(zip(batches, counts)):\n",
    "    sample_var += sum_mass**2/num_potato\n",
    "sample_var /= len(counts)\n",
    "\n",
    "sample_var_rand_sample = 0\n",
    "for c in rand_sample:\n",
    "    sample_var_rand_sample += c**2\n",
    "sample_var_rand_sample /= len(rand_sample)\n",
    "\n",
    "\n",
    "print(sample_var**(1/2))\n",
    "print(sample_var_rand_sample**(1/2))"
   ]
  },
  {
   "cell_type": "code",
   "execution_count": 4,
   "metadata": {
    "collapsed": true
   },
   "outputs": [],
   "source": [
    "\n",
    "# print(band_to_samples)"
   ]
  },
  {
   "cell_type": "code",
   "execution_count": 5,
   "metadata": {
    "collapsed": true
   },
   "outputs": [],
   "source": [
    "def pi_estimate(band_to_samples, smoothing=0):\n",
    "    pi_sum = {}\n",
    "    num_potatoes = 0\n",
    "    for band in band_to_samples:\n",
    "        total_sum = 0\n",
    "        for (batch_size, batch_weight) in band_to_samples[band]:\n",
    "            total_sum += batch_size\n",
    "        pi_sum[band] = total_sum+smoothing\n",
    "        num_potatoes += total_sum\n",
    "    pi_dist = {}\n",
    "    for band in pi_sum:\n",
    "        pi_dist[band] = pi_sum[band]/num_potatoes\n",
    "    return pi_dist\n"
   ]
  },
  {
   "cell_type": "code",
   "execution_count": 6,
   "metadata": {
    "collapsed": true
   },
   "outputs": [],
   "source": [
    "def estimate_mu(band_to_samples):\n",
    "    mu = {}\n",
    "    for band in band_to_samples:\n",
    "        total_weight = 0\n",
    "        total_potatoes = 0\n",
    "        for (batch_size, batch_weight) in band_to_samples[band]:\n",
    "            total_weight += batch_weight\n",
    "            total_potatoes += batch_size\n",
    "        mu[band] = total_weight/total_potatoes\n",
    "    return mu\n"
   ]
  },
  {
   "cell_type": "code",
   "execution_count": 7,
   "metadata": {
    "collapsed": true
   },
   "outputs": [],
   "source": [
    "def estimate_var(band_to_samples, mu_estimate):\n",
    "    var = {}\n",
    "    for band in band_to_samples:\n",
    "        square_diff_sum = 0 \n",
    "        for (batch_size, batch_weight) in band_to_samples[band]:\n",
    "            square_diff_sum += (batch_weight - batch_size*mu_estimate[band])**2/batch_size\n",
    "        var[band] = square_diff_sum/len(band_to_samples[band])\n",
    "    return var\n"
   ]
  },
  {
   "cell_type": "code",
   "execution_count": 8,
   "metadata": {
    "collapsed": true
   },
   "outputs": [],
   "source": [
    "import scipy.stats\n",
    "\n",
    "def get_posterior(weight, band_to_samples, pi_estimate, mu_estimate, var_estimate):\n",
    "    post_prop = {}\n",
    "    sum_post = 0\n",
    "    post = {}\n",
    "    for band in band_to_samples:\n",
    "        norm_dist = scipy.stats.norm(mu_estimate[band], var_estimate[band]**(1/2))\n",
    "        post_prop[band] = norm_dist.pdf(weight)*pi_estimate[band]\n",
    "        sum_post += post_prop[band]\n",
    "    for band in post_prop:\n",
    "        post[band] = post_prop[band]/sum_post\n",
    "    return post\n",
    "\n",
    "def get_argmax(posterior):\n",
    "    key_max = None\n",
    "    max_value = 0.0\n",
    "    for band in posterior:\n",
    "        if posterior[band] > max_value:\n",
    "            max_value = posterior[band]\n",
    "            key_max = band\n",
    "    return key_max\n",
    "    \n",
    "def get_entropy(posterior):\n",
    "    H = 0\n",
    "    for band in posterior:\n",
    "        if posterior[band] < 1e-50:\n",
    "            continue\n",
    "        H += -posterior[band]*np.log(posterior[band])\n",
    "    return H\n",
    "\n",
    "\n",
    "    "
   ]
  },
  {
   "cell_type": "code",
   "execution_count": 9,
   "metadata": {
    "collapsed": true
   },
   "outputs": [],
   "source": [
    "colors = {}\n",
    "colors[20] = 'blue'\n",
    "colors[30] = 'green'\n",
    "colors[40] = 'red'\n",
    "colors[50] = 'cyan'\n",
    "colors[60] = 'magenta'\n",
    "colors[70] = 'black'\n",
    "colors[80] = 'orange'"
   ]
  },
  {
   "cell_type": "code",
   "execution_count": 10,
   "metadata": {},
   "outputs": [
    {
     "name": "stdout",
     "output_type": "stream",
     "text": [
      "{80: [(2, 0.644999980926513), (2, 0.694999992847442), (2, 0.709999978542327), (1, 0.365000009536743), (1, 0.370000004768371), (1, 0.370000004768371), (1, 0.375), (1, 0.379999995231628), (9, 3.43499994277954), (2, 0.764999985694885), (2, 0.785000026226043), (3, 1.2150000333786), (1, 0.414999991655349), (3, 1.26999998092651), (5, 2.16000008583068), (1, 0.435000002384185), (5, 2.20499992370605), (1, 0.449999988079071), (2, 0.964999973773956), (1, 0.490000009536743), (1, 0.495000004768371), (1, 0.524999976158142)], 50: [(37, 3.04999995231628), (44, 3.65000009536743), (60, 5.3600001335144), (40, 3.59999990463256), (24, 2.21000003814697), (40, 3.71000003814697), (48, 4.45499992370605), (41, 3.81500005722045), (67, 6.26999998092651), (41, 3.875), (30, 2.84500002861022), (41, 3.90000009536743), (71, 6.78999996185302), (27, 2.58999991416931), (54, 5.20499992370605), (29, 2.79999995231628), (40, 3.89000010490417), (64, 6.2849998474121), (27, 2.65499997138977), (25, 2.46000003814697), (47, 4.63000011444091), (48, 4.73000001907348), (18, 1.79499995708465), (73, 7.28000020980835), (70, 7.01000022888183), (27, 2.73000001907348), (39, 3.94499993324279), (18, 1.82500004768371), (45, 4.57499980926513), (39, 3.97499990463256), (39, 3.97499990463256), (42, 4.2849998474121), (38, 3.88000011444091), (41, 4.19000005722045), (41, 4.19500017166137), (24, 2.49499988555908), (40, 4.38000011444091), (37, 4.1100001335144), (22, 2.46499991416931), (36, 4.03999996185302), (28, 3.16499996185302), (16, 1.81500005722045)], 20: [(28, 0.159999996423721), (21, 0.125), (13, 0.0799999982118606), (8, 0.050000000745058), (9, 0.0599999986588954), (20, 0.135000005364418), (15, 0.104999996721744), (4, 0.0299999993294477), (8, 0.0599999986588954), (20, 0.150000005960464), (12, 0.0900000035762786), (6, 0.050000000745058), (4, 0.0350000001490116), (4, 0.0350000001490116), (6, 0.0549999997019767)], 70: [(21, 4.65500020980835), (18, 4.28000020980835), (10, 2.40499997138977), (7, 1.69000005722045), (9, 2.17499995231628), (17, 4.15500020980835), (12, 2.97000002861022), (8, 1.98500001430511), (38, 9.4350004196167), (10, 2.50500011444091), (11, 2.75999999046325), (3, 0.759999990463256), (18, 4.58500003814697), (14, 3.57999992370605), (15, 3.84500002861022), (18, 4.71000003814697), (2, 0.524999976158142), (3, 0.790000021457672), (21, 5.55000019073486), (12, 3.18499994277954), (22, 5.84000015258789), (32, 8.61999988555908), (13, 3.50999999046325), (16, 4.32499980926513), (31, 8.46500015258789), (20, 5.5349998474121), (8, 2.23000001907348), (28, 7.82499980926513), (24, 6.72499990463256), (22, 6.19000005722045), (10, 3.03999996185302), (12, 3.65499997138977), (7, 2.13499999046325), (13, 3.97000002861022), (15, 4.59999990463256), (8, 2.51999998092651), (5, 1.64499998092651), (5, 1.65499997138977), (9, 3.05999994277954), (9, 3.09500002861022), (1, 0.370000004768371)], 40: [(11, 0.430000007152557), (19, 0.805000007152557), (27, 1.19500005245208), (31, 1.41999995708465), (36, 1.64999997615814), (24, 1.10000002384185), (26, 1.20500004291534), (18, 0.839999973773956), (9, 0.425000011920928), (44, 2.07999992370605), (13, 0.615000009536743), (11, 0.524999976158142), (9, 0.430000007152557), (41, 1.9650000333786), (33, 1.59500002861022), (28, 1.35500001907348), (41, 1.98500001430511), (30, 1.4650000333786), (31, 1.51499998569488), (36, 1.76499998569488), (11, 0.540000021457672), (21, 1.03499996662139), (25, 1.23500001430511), (17, 0.839999973773956), (21, 1.04499995708465), (22, 1.10500001907348), (10, 0.504999995231628), (9, 0.455000013113021), (24, 1.22000002861022), (29, 1.48000001907348), (17, 0.870000004768371), (42, 2.15000009536743), (7, 0.360000014305114), (32, 1.65499997138977), (21, 1.0900000333786), (7, 0.370000004768371), (10, 0.52999997138977), (25, 1.38999998569488), (32, 1.79499995708465), (36, 2.02500009536743), (36, 2.02999997138977), (22, 1.26999998092651)], 60: [(31, 4.13000011444091), (49, 7.46999979019165), (54, 8.68000030517578), (30, 4.88000011444091), (28, 4.57000017166137), (62, 10.1450004577636), (31, 5.09000015258789), (59, 9.72500038146972), (29, 4.7849998474121), (17, 2.80999994277954), (53, 8.8100004196167), (54, 8.97999954223632), (60, 10.0050001144409), (65, 10.8400001525878), (49, 8.1899995803833), (44, 7.38500022888183), (49, 8.22999954223632), (38, 6.43499994277954), (63, 10.6999998092651), (53, 9.05000019073486), (68, 11.6149997711181), (38, 6.52500009536743), (32, 5.49499988555908), (64, 11), (35, 6.07999992370605), (36, 6.26000022888183), (21, 3.66499996185302), (39, 6.80999994277954), (34, 5.94000005722045), (29, 5.09999990463256), (38, 6.71500015258789), (55, 9.75500011444091), (29, 5.19000005722045), (47, 8.46000003814697), (19, 3.52999997138977), (31, 5.90500020980835), (50, 9.57499980926513), (23, 4.44500017166137), (29, 5.67999982833862), (15, 2.97000002861022), (22, 4.39499998092651), (18, 3.70499992370605)], 30: [(5, 0.0799999982118606), (5, 0.0799999982118606), (13, 0.215000003576278), (14, 0.25), (16, 0.289999991655349), (17, 0.310000002384185), (17, 0.310000002384185), (23, 0.419999986886978), (21, 0.389999985694885), (16, 0.310000002384185), (9, 0.174999997019767), (10, 0.194999992847442), (2, 0.0399999991059303), (19, 0.379999995231628), (5, 0.100000001490116), (25, 0.514999985694885), (36, 0.75), (11, 0.230000004172325), (10, 0.209999993443489), (4, 0.0850000008940696), (15, 0.319999992847442), (7, 0.150000005960464), (9, 0.194999992847442), (29, 0.629999995231628), (10, 0.219999998807907), (7, 0.155000001192092), (25, 0.555000007152557), (9, 0.200000002980232), (10, 0.224999994039535), (6, 0.135000005364418), (24, 0.5450000166893), (7, 0.159999996423721), (6, 0.140000000596046), (19, 0.449999988079071), (24, 0.569999992847442), (14, 0.33500000834465), (10, 0.239999994635581), (5, 0.125), (4, 0.100000001490116), (12, 0.314999997615814), (13, 0.349999994039535), (8, 0.224999994039535)]}\n"
     ]
    }
   ],
   "source": [
    "min_weight = 100000\n",
    "max_weight = 0 \n",
    "band_to_samples = {} \n",
    "for band, batch_size, batch_weight in zip(df[1][1:], df[2][1:], df[3][1:]):\n",
    "    if band == 90:\n",
    "        continue\n",
    "    if band in band_to_samples:\n",
    "        band_to_samples[band].append((batch_size,batch_weight))\n",
    "    else:\n",
    "        band_to_samples[band] = [(batch_size, batch_weight)]\n",
    "        min_weight = min(min_weight, band_to_samples[band][-1][1]/band_to_samples[band][-1][0])\n",
    "        max_weight = max(max_weight, band_to_samples[band][-1][1]/band_to_samples[band][-1][0])\n",
    "print(band_to_samples)"
   ]
  },
  {
   "cell_type": "code",
   "execution_count": 11,
   "metadata": {},
   "outputs": [
    {
     "name": "stdout",
     "output_type": "stream",
     "text": [
      "{80: 0.01364590622813156, 50: 0.2988103568929321, 20: 0.0363890832750175, 70: 0.10619314205738278, 40: 0.17914625612316304, 60: 0.3009097270818754, 30: 0.1016445066480056}\n",
      "{80: 0.4066666644066567, 50: 0.0982747320196767, 20: 0.006853932608965397, 70: 0.2695927222225445, 40: 0.049657947850419104, 60: 0.17143491175047723, 30: 0.021188747590769417}\n",
      "{80: 0.00421761354460883, 50: 0.0017529664550999034, 20: 1.0395108401974025e-05, 70: 0.009407009866873444, 40: 0.0003128519751440607, 60: 0.0051019605545705015, 30: 8.45920113265986e-05}\n"
     ]
    }
   ],
   "source": [
    "pi = pi_estimate(band_to_samples, smoothing=30)\n",
    "mu = estimate_mu(band_to_samples)\n",
    "var = estimate_var(band_to_samples, mu)\n",
    "print(pi)\n",
    "print(mu)\n",
    "print(var)"
   ]
  },
  {
   "cell_type": "code",
   "execution_count": 12,
   "metadata": {},
   "outputs": [
    {
     "data": {
      "image/png": "[encoded data removed]",
      "text/plain": [
       "<matplotlib.figure.Figure at 0x11784d400>"
      ]
     },
     "metadata": {},
     "output_type": "display_data"
    },
    {
     "data": {
      "image/png": "[encoded data removed]",
      "text/plain": [
       "<matplotlib.figure.Figure at 0x11930e9e8>"
      ]
     },
     "metadata": {},
     "output_type": "display_data"
    }
   ],
   "source": [
    "weights = np.linspace(0.75*min_weight, 1.75*max_weight, 1000)\n",
    "entropy = []\n",
    "prob_confidence = []\n",
    "plot_color = []\n",
    "for w in weights:\n",
    "    posterior = get_posterior(w, band_to_samples, pi, mu, var)\n",
    "    argmax = get_argmax(posterior)\n",
    "    entropy.append(get_entropy(posterior))\n",
    "    prob_confidence.append(1-posterior[argmax])\n",
    "    plot_color.append(colors[argmax])\n",
    "\n",
    "plt.scatter(weights, entropy, s = 0.5, c = plot_color)\n",
    "plt.show()\n",
    "plt.scatter(weights, prob_confidence, s = 0.5, c = plot_color)\n",
    "plt.show()"
   ]
  },
  {
   "cell_type": "code",
   "execution_count": null,
   "metadata": {
    "collapsed": true
   },
   "outputs": [],
   "source": []
  },
  {
   "cell_type": "code",
   "execution_count": null,
   "metadata": {
    "collapsed": true
   },
   "outputs": [],
   "source": []
  }
 ],
 "metadata": {
  "kernelspec": {
   "display_name": "Python 3",
   "language": "python",
   "name": "python3"
  },
  "language_info": {
   "codemirror_mode": {
    "name": "ipython",
    "version": 3
   },
   "file_extension": ".py",
   "mimetype": "text/x-python",
   "name": "python",
   "nbconvert_exporter": "python",
   "pygments_lexer": "ipython3",
   "version": "3.6.3"
  }
 },
 "nbformat": 4,
 "nbformat_minor": 2
}
