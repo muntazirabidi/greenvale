{
 "cells": [
  {
   "cell_type": "code",
   "execution_count": 1,
   "metadata": {
    "collapsed": true
   },
   "outputs": [],
   "source": [
    "from openpyxl.utils.dataframe import dataframe_to_rows\n",
    "from openpyxl import load_workbook\n",
    "# /https://openpyxl.readthedocs.io/\n",
    "import pandas as pd\n",
    "import numpy as np\n",
    "import matplotlib.pyplot as plt\n",
    "from sklearn import linear_model\n",
    "# http://scikit-learn.org/stable/modules/generated/sklearn.linear_model.LinearRegression.html\n",
    "\n",
    "# http://katbailey.github.io/post/gaussian-processes-for-dummies/"
   ]
  },
  {
   "cell_type": "code",
   "execution_count": 5,
   "metadata": {},
   "outputs": [],
   "source": [
    "wb2 = load_workbook('SampleData_TuberWeight_CatalystAI.xlsx')\n"
   ]
  },
  {
   "cell_type": "code",
   "execution_count": 7,
   "metadata": {},
   "outputs": [
    {
     "name": "stdout",
     "output_type": "stream",
     "text": [
      "            0               1            2                   3  \\\n",
      "0    did_uuid  mid_grade (mm)  tuber count  sample weight (kg)   \n",
      "1       42269              20           28                0.16   \n",
      "2       41956              20           21               0.125   \n",
      "3       41860              20           13                0.08   \n",
      "4       42221              20            8                0.05   \n",
      "5       42366              20            9                0.06   \n",
      "6       42077              20           20               0.135   \n",
      "7       42125              20           15               0.105   \n",
      "8       42101              20            4                0.03   \n",
      "9       42487              20            8                0.06   \n",
      "10      41836              20           20                0.15   \n",
      "11      42052              20           12                0.09   \n",
      "12      42463              20            6                0.05   \n",
      "13      42245              20            4               0.035   \n",
      "14      42438              20            4               0.035   \n",
      "15      42390              20            6               0.055   \n",
      "16     136735              30            5                0.08   \n",
      "17     136757              30            5                0.08   \n",
      "18     165094              30           13               0.215   \n",
      "19     165067              30           14                0.25   \n",
      "20      42223              30           16                0.29   \n",
      "21      42127              30           17                0.31   \n",
      "22      42392              30           17                0.31   \n",
      "23      41958              30           23                0.42   \n",
      "24      42054              30           21                0.39   \n",
      "25      42103              30           16                0.31   \n",
      "26     163077              30            9               0.175   \n",
      "27     163008              30           10               0.195   \n",
      "28     132441              30            2                0.04   \n",
      "29      42440              30           19                0.38   \n",
      "..        ...             ...          ...                 ...   \n",
      "222    133245              70            9                3.06   \n",
      "223    163893              70            9               3.095   \n",
      "224    135103              70            1                0.37   \n",
      "225    135239              80            2               0.645   \n",
      "226     42089              80            2               0.695   \n",
      "227     42499              80            2                0.71   \n",
      "228    137335              80            1               0.365   \n",
      "229     42281              80            1                0.37   \n",
      "230    137351              80            1                0.37   \n",
      "231     42113              80            1               0.375   \n",
      "232    135251              80            1                0.38   \n",
      "233    165759              80            9               3.435   \n",
      "234    135261              80            2               0.765   \n",
      "235    137326              80            2               0.785   \n",
      "236    137357              80            3               1.215   \n",
      "237    164038              80            1               0.415   \n",
      "238    135210              80            3                1.27   \n",
      "239    133416              80            5                2.16   \n",
      "240     42475              80            1               0.435   \n",
      "241     42064              80            5               2.205   \n",
      "242    133449              80            1                0.45   \n",
      "243    135248              80            2               0.965   \n",
      "244    133461              80            1                0.49   \n",
      "245     41848              80            1               0.495   \n",
      "246     41872              80            1               0.525   \n",
      "247    165891              90            1                0.42   \n",
      "248    165886              90            1               0.455   \n",
      "249     42091              90            1                0.51   \n",
      "250    164232              90            1               0.535   \n",
      "251    137446              90            1                0.65   \n",
      "\n",
      "                           4       5                          6  \n",
      "0    aveage tuber weight (g)  source  Cube Root of Tuber weight  \n",
      "1                    5.71429      FT                    1.78781  \n",
      "2                    5.95238      FT                     1.8123  \n",
      "3                    6.15385      FT                    1.83252  \n",
      "4                       6.25      FT                    1.84202  \n",
      "5                    6.66667      FT                    1.88207  \n",
      "6                       6.75      FT                    1.88988  \n",
      "7                          7      FT                    1.91293  \n",
      "8                        7.5      FT                    1.95743  \n",
      "9                        7.5      FT                    1.95743  \n",
      "10                       7.5      FT                    1.95743  \n",
      "11                       7.5      FT                    1.95743  \n",
      "12                   8.33333      FT                     2.0274  \n",
      "13                      8.75      FT                    2.06064  \n",
      "14                      8.75      FT                    2.06064  \n",
      "15                   9.16667      FT                    2.09285  \n",
      "16                        16      VT                    2.51984  \n",
      "17                        16      VT                    2.51984  \n",
      "18                   16.5385      VT                     2.5478  \n",
      "19                   17.8571      VT                    2.61379  \n",
      "20                    18.125      FT                    2.62679  \n",
      "21                   18.2353      FT                    2.63211  \n",
      "22                   18.2353      FT                    2.63211  \n",
      "23                   18.2609      FT                    2.63334  \n",
      "24                   18.5714      FT                    2.64819  \n",
      "25                    19.375      FT                    2.68584  \n",
      "26                   19.4444      VT                    2.68905  \n",
      "27                      19.5      VT                    2.69161  \n",
      "28                        20      VT                    2.71442  \n",
      "29                        20      FT                    2.71442  \n",
      "..                       ...     ...                        ...  \n",
      "222                      340      VT                    6.97953  \n",
      "223                  343.889      VT                    7.00604  \n",
      "224                      370      VT                    7.17905  \n",
      "225                    322.5      VT                    6.85767  \n",
      "226                    347.5      FT                    7.03048  \n",
      "227                      355      FT                     7.0807  \n",
      "228                      365      VT                    7.14657  \n",
      "229                      370      FT                    7.17905  \n",
      "230                      370      VT                    7.17905  \n",
      "231                      375      FT                    7.21125  \n",
      "232                      380      VT                    7.24316  \n",
      "233                  381.667      VT                    7.25373  \n",
      "234                    382.5      VT                    7.25901  \n",
      "235                    392.5      VT                    7.32172  \n",
      "236                      405      VT                    7.39864  \n",
      "237                      415      VT                    7.45904  \n",
      "238                  423.333      VT                    7.50863  \n",
      "239                      432      VT                    7.55953  \n",
      "240                      435      FT                    7.57698  \n",
      "241                      441      FT                    7.61166  \n",
      "242                      450      VT                    7.66309  \n",
      "243                    482.5      VT                     7.8433  \n",
      "244                      490      VT                    7.88374  \n",
      "245                      495      FT                    7.91046  \n",
      "246                      525      FT                    8.06714  \n",
      "247                      420      VT                    7.48887  \n",
      "248                      455      VT                    7.69137  \n",
      "249                      510      FT                    7.98957  \n",
      "250                      535      VT                    8.11804  \n",
      "251                      650      VT                    8.66239  \n",
      "\n",
      "[252 rows x 7 columns]\n"
     ]
    }
   ],
   "source": [
    "df = pd.DataFrame(wb2['Sample Data (training)'].values)\n",
    "df = df.dropna()\n",
    "for index, row in df.iterrows():\n",
    "    if index == 0:\n",
    "        continue\n",
    "    row[6] = row[4]**(1/3)\n",
    "print(df)"
   ]
  },
  {
   "cell_type": "code",
   "execution_count": 11,
   "metadata": {},
   "outputs": [
    {
     "name": "stdout",
     "output_type": "stream",
     "text": [
      "[20 20 20 20 20 20 20 20 20 20 20 20 20 20 20 30 30 30 30 30 30 30 30 30\n",
      " 30 30 30 30 30 30 30 30 30 30 30 30 30 30 30 30 30 30 30 30 30 30 30 30\n",
      " 30 30 30 30 30 30 30 30 30 40 40 40 40 40 40 40 40 40 40 40 40 40 40 40\n",
      " 40 40 40 40 40 40 40 40 40 40 40 40 40 40 40 40 40 40 40 40 40 40 40 40\n",
      " 40 40 40 50 50 50 50 50 50 50 50 50 50 50 50 50 50 50 50 50 50 50 50 50\n",
      " 50 50 50 50 50 50 50 50 50 50 50 50 50 50 50 50 50 50 50 50 50 60 60 60\n",
      " 60 60 60 60 60 60 60 60 60 60 60 60 60 60 60 60 60 60 60 60 60 60 60 60\n",
      " 60 60 60 60 60 60 60 60 60 60 60 60 60 60 60 70 70 70 70 70 70 70 70 70\n",
      " 70 70 70 70 70 70 70 70 70 70 70 70 70 70 70 70 70 70 70 70 70 70 70 70\n",
      " 70 70 70 70 70 70 70 70 80 80 80 80 80 80 80 80 80 80 80 80 80 80 80 80\n",
      " 80 80 80 80 80 80 90 90 90 90 90]\n"
     ]
    }
   ],
   "source": [
    "mid_grade = np.asarray(df[1][1:])\n",
    "cube_root = np.asarray(df[6][1:])\n",
    "print (mid_grade)\n"
   ]
  },
  {
   "cell_type": "code",
   "execution_count": 13,
   "metadata": {
    "collapsed": true
   },
   "outputs": [],
   "source": [
    "import random \n",
    "\n",
    "def get_sample():\n",
    "    mid_grade_to_index = {}\n",
    "    for i, m in enumerate(mid_grade):\n",
    "        if m in mid_grade_to_index:\n",
    "            mid_grade_to_index[m].append(i)\n",
    "        else:\n",
    "            mid_grade_to_index[m] = [i]\n",
    "\n",
    "    mid_grade_sample = []\n",
    "    cube_root_sample = []\n",
    "\n",
    "    for mid_grade_ in mid_grade_to_index:\n",
    "        mid_grade_sample.append(mid_grade_)\n",
    "        cube_root_sample.append(cube_root[random.sample(mid_grade_to_index[mid_grade_], 1)])\n",
    "\n",
    "    mid_grade_sample = np.asarray(mid_grade_sample)\n",
    "    cube_root_sample = np.asarray(cube_root_sample)\n",
    "    \n",
    "    return mid_grade_sample, cube_root_sample"
   ]
  },
  {
   "cell_type": "code",
   "execution_count": 14,
   "metadata": {},
   "outputs": [
    {
     "data": {
      "image/png": "[encoded data removed]",
      "text/plain": [
       "<matplotlib.figure.Figure at 0x10584e240>"
      ]
     },
     "metadata": {},
     "output_type": "display_data"
    },
    {
     "data": {
      "image/png": "[encoded data removed]",
      "text/plain": [
       "<matplotlib.figure.Figure at 0x1136059b0>"
      ]
     },
     "metadata": {},
     "output_type": "display_data"
    }
   ],
   "source": [
    "mid_grade_sample, cube_root_sample = get_sample()\n",
    "regr = linear_model.LinearRegression()\n",
    "regr.fit(cube_root_sample.reshape(-1, 1), mid_grade_sample.reshape(-1,1))\n",
    "\n",
    "lin = np.linspace(0, 10, 2).reshape(-1, 1)\n",
    "regr.predict(lin)\n",
    "\n",
    "plt.scatter(cube_root_sample, mid_grade_sample)\n",
    "plt.xlabel('cube_root')\n",
    "plt.ylabel('width')\n",
    "\n",
    "regr.predict([cube_root_sample[0], cube_root_sample[-1]])\n",
    "# print(regr.predict([[cube_root_sample[0]], [cube_root_sample[-1]]))\n",
    "plt.plot([cube_root_sample[0], cube_root_sample[-1]], regr.predict([cube_root_sample[0], cube_root_sample[-1]]), 'k-')\n",
    "\n",
    "plt.show()\n",
    "\n",
    "def kernel(a, b, param=0.1):\n",
    "    sqdist = np.sum(a**2,1).reshape(-1,1) + np.sum(b**2,1) - 2*np.dot(a, b.T)\n",
    "    return np.exp(-0.5 * (1/param) * sqdist)\n",
    "\n",
    "param = 1.0\n",
    "\n",
    "Xtrain = np.asarray(cube_root_sample.reshape(-1, 1), dtype=np.float32)\n",
    "ytrain = np.asarray(mid_grade_sample.reshape(-1, 1), dtype=np.float32)\n",
    "\n",
    "# Apply the kernel function to our training points\n",
    "K = kernel(Xtrain, Xtrain, param)\n",
    "L = np.linalg.cholesky(K + 0.00005*np.eye(len(Xtrain)))\n",
    "\n",
    "Xtest = np.linspace(0, 10, 80).reshape(-1,1)\n",
    "n = 80\n",
    "K_ss = kernel(Xtest, Xtest, param)\n",
    "\n",
    "# Compute the mean at our test points.\n",
    "K_s = kernel(Xtrain, Xtest, param)\n",
    "Lk = np.linalg.solve(L, K_s)\n",
    "mu = np.dot(Lk.T, np.linalg.solve(L, ytrain)).reshape((n,))\n",
    "\n",
    "# Compute the standard deviation so we can plot it\n",
    "s2 = np.diag(K_ss) - np.sum(Lk**2, axis=0)\n",
    "stdv = 100*np.sqrt(s2)\n",
    "# Draw samples from the posterior at our test points.\n",
    "L = np.linalg.cholesky(K_ss + 1e-6*np.eye(n) - np.dot(Lk.T, Lk))\n",
    "f_post = mu.reshape(-1,1) + np.dot(L, np.random.normal(size=(n,3)))\n",
    "\n",
    "plt.plot(Xtrain, ytrain, 'bs', ms=4)\n",
    "plt.gca().fill_between(Xtest.flat, mu-2*stdv, mu+2*stdv, color=\"#dddddd\")\n",
    "plt.plot(Xtest, mu, 'r--', lw=2)\n",
    "plt.axis([0, 10, -100, 100])\n",
    "plt.show()"
   ]
  },
  {
   "cell_type": "code",
   "execution_count": 17,
   "metadata": {},
   "outputs": [
    {
     "name": "stdout",
     "output_type": "stream",
     "text": [
      "[80 50 20 70 40 90 60 30]\n",
      "[[6.857669782774136]\n",
      " [4.637287043650982]\n",
      " [2.060642652828656]\n",
      " [6.543754739925437]\n",
      " [3.616684209829249]\n",
      " [7.48887230928061]\n",
      " [5.342052722000453]\n",
      " [2.633341278737126]]\n"
     ]
    }
   ],
   "source": [
    "print(mid_grade_sample)\n",
    "print(cube_root_sample)"
   ]
  },
  {
   "cell_type": "code",
   "execution_count": null,
   "metadata": {
    "collapsed": true
   },
   "outputs": [],
   "source": []
  }
 ],
 "metadata": {
  "kernelspec": {
   "display_name": "Python [default]",
   "language": "python",
   "name": "python3"
  },
  "language_info": {
   "codemirror_mode": {
    "name": "ipython",
    "version": 3
   },
   "file_extension": ".py",
   "mimetype": "text/x-python",
   "name": "python",
   "nbconvert_exporter": "python",
   "pygments_lexer": "ipython3",
   "version": "3.5.3"
  }
 },
 "nbformat": 4,
 "nbformat_minor": 2
}
