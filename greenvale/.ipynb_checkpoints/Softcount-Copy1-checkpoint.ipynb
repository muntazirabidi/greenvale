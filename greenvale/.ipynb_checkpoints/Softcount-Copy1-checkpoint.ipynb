{
 "cells": [
  {
   "cell_type": "code",
   "execution_count": 12,
   "metadata": {
    "collapsed": true
   },
   "outputs": [],
   "source": [
    "import numpy as np\n",
    "import matplotlib.pyplot as plt\n",
    "import matplotlib\n",
    "\n",
    "import pandas as pd\n",
    "import csv\n",
    "import scipy.stats\n",
    "\n",
    "from IPython.display import HTML, display\n"
   ]
  },
  {
   "cell_type": "code",
   "execution_count": 13,
   "metadata": {
    "collapsed": true
   },
   "outputs": [],
   "source": [
    "from openpyxl.utils.dataframe import dataframe_to_rows\n",
    "from openpyxl import load_workbook\n",
    "\n",
    "wb2 = load_workbook('CAI_Rawdata_27.07.18.xlsx')\n",
    "\n"
   ]
  },
  {
   "cell_type": "code",
   "execution_count": 14,
   "metadata": {
    "collapsed": true
   },
   "outputs": [],
   "source": [
    "df = pd.DataFrame(wb2['{}_Individual'.format('MarisPiper')].values)\n",
    "\n",
    "#print(df)"
   ]
  },
  {
   "cell_type": "code",
   "execution_count": 43,
   "metadata": {},
   "outputs": [],
   "source": [
    "def get_batch_data(sheet_name, wb=wb2):\n",
    "    df = pd.DataFrame(wb[sheet_name].values)\n",
    "    \n",
    "    midgrade_to_batch = {}\n",
    "    \n",
    "    for index, row in df.iterrows():\n",
    "        if index == 0:\n",
    "            continue\n",
    "        midgrade, tuber_count, batch_weight = row[7:10]\n",
    "        \n",
    "        if midgrade in midgrade_to_batch:\n",
    "            midgrade_to_batch[midgrade].append((tuber_count, batch_weight))\n",
    "        else:\n",
    "            midgrade_to_batch[midgrade] = [(tuber_count, batch_weight)]\n",
    "    return midgrade_to_batch\n",
    "    \n",
    "def get_individual_data(sheet_name, wb=wb2):\n",
    "    df = pd.DataFrame(wb[sheet_name].values)\n",
    "    \n",
    "    midgrade_to_weight = {}\n",
    "    for index, row in df.iterrows():\n",
    "        if index ==0:\n",
    "            continue\n",
    "        midgrade, weight = row[8:10]\n",
    "        farm = row[6]\n",
    "        \n",
    "        if midgrade == None or weight == None:\n",
    "            break\n",
    "        if midgrade in midgrade_to_weight:\n",
    "            midgrade_to_weight[midgrade].append((weight/1000, farm))\n",
    "        else:\n",
    "            midgrade_to_weight[midgrade] = [(weight/1000, farm)]\n",
    "    return midgrade_to_weight\n",
    "\n",
    "def load_potato_individual_batch(name):\n",
    "    individual = get_individual_data('{}_Individual'.format(name))\n",
    "    #print('{}_Individual'.format(name))\n",
    "    batch = get_batch_data('{}_5mm'.format(name))\n",
    "    to_del = []\n",
    "    for key in batch:\n",
    "    \n",
    "        if not key in individual:\n",
    "            to_del.append(key)\n",
    "    for del_key in to_del:\n",
    "        del batch[del_key]\n",
    "    return individual, batch"
   ]
  },
  {
   "cell_type": "code",
   "execution_count": 45,
   "metadata": {},
   "outputs": [],
   "source": [
    "#get_batch_data('MarisPiper_5mm', wb=wb2)\n",
    "#load_potato_individual_batch('Soraya')\n",
    "#get_individual_data('Soraya_Individual', wb=wb2)"
   ]
  },
  {
   "cell_type": "code",
   "execution_count": 103,
   "metadata": {
    "collapsed": true
   },
   "outputs": [],
   "source": [
    "def pi_estimate(band_to_samples, smoothing=0):\n",
    "    pi_sum = {}\n",
    "    num_potatoes = 0\n",
    "    for band in band_to_samples:\n",
    "        total_sum = 0\n",
    "        for (batch_size, batch_weight) in band_to_samples[band]:\n",
    "            total_sum += batch_size\n",
    "        pi_sum[band] = total_sum+smoothing\n",
    "        num_potatoes += total_sum+smoothing\n",
    "    pi_dist = {}\n",
    "    for band in pi_sum:\n",
    "        pi_dist[band] = pi_sum[band]/num_potatoes\n",
    "    return pi_dist\n",
    "\n",
    "def estimate_mu(band_to_samples):\n",
    "    mu = {}\n",
    "    for band in band_to_samples:\n",
    "        total_weight = 0\n",
    "        total_potatoes = 0\n",
    "        for (batch_size, batch_weight) in band_to_samples[band]:\n",
    "            total_weight += batch_weight\n",
    "            total_potatoes += batch_size\n",
    "        mu[band] = total_weight/total_potatoes\n",
    "\n",
    "        \n",
    "    return mu\n",
    "\n",
    "def estimate_var(band_to_samples, mu_estimate):\n",
    "    var = {}\n",
    "    for band in band_to_samples:\n",
    "        square_diff_sum = 0 \n",
    "        for (batch_size, batch_weight) in band_to_samples[band]:\n",
    "            square_diff_sum += (batch_weight - batch_size*mu_estimate[band])**2/batch_size\n",
    "        var[band] = max(square_diff_sum/len(band_to_samples[band]), 5e-9)\n",
    "    return var\n",
    "\n",
    "\n",
    "def get_posterior(weight, bands, pi_estimate, mu_estimate, var_estimate):\n",
    "    post_prop = {}\n",
    "    sum_post = 0\n",
    "    post = {}\n",
    "    for band in bands:\n",
    "        norm_dist = scipy.stats.norm(mu_estimate[band], var_estimate[band]**(1/2))\n",
    "        post_prop[band] = norm_dist.pdf(weight)*pi_estimate[band]\n",
    "        sum_post += post_prop[band]\n",
    "\n",
    "    for band in post_prop:\n",
    "        post[band] = post_prop[band]/sum_post\n",
    "    return post\n",
    "\n",
    "def get_argmax(posterior):\n",
    "    key_max = None\n",
    "    max_value = 0.0\n",
    "    for band in posterior:\n",
    "        if posterior[band] > max_value:\n",
    "            max_value = posterior[band]\n",
    "            key_max = band\n",
    "    return key_max\n",
    "\n",
    "def kl(p, q):\n",
    "    \"\"\"Kullback-Leibler divergence D(P || Q) for discrete distributions\n",
    "    Parameters\n",
    "    ----------\n",
    "    p, q : array-like, dtype=float, shape=n\n",
    "    Discrete probability distributions.\n",
    "    \"\"\"\n",
    "    p = np.asarray(p, dtype=np.float)\n",
    "    q = np.asarray(q, dtype=np.float)\n",
    "\n",
    "    return np.sum(np.where(p != 0, p * np.log(p / q), 0))\n",
    "\n",
    "def calculate_KL(y_pred, y_true):\n",
    "    y_pred = dict(y_pred)\n",
    "    y_true = dict(y_true)\n",
    "    \n",
    "    y_pred_dist = []\n",
    "    y_true_dist = []\n",
    "    \n",
    "    for i in y_pred:\n",
    "        y_pred_dist.append(y_pred[i])\n",
    "        y_true_dist.append(y_true[i])\n",
    "        \n",
    "    y_pred_dist = np.asarray(y_pred_dist)\n",
    "    y_pred_dist = y_pred_dist/y_pred_dist.sum()\n",
    "    \n",
    "    y_true_dist = np.asarray(y_true_dist)\n",
    "    y_true_dist = y_true_dist/y_true_dist.sum()\n",
    "    \n",
    "    return kl(y_true_dist, y_pred_dist)\n",
    "\n",
    "def calculate_W(y_pred, y_true):\n",
    "\n",
    "    y_pred_dist = []\n",
    "    y_true_dist = []\n",
    "    \n",
    "    for i in y_pred:\n",
    "        y_pred_dist.append(i)\n",
    "        y_true_dist.append(i)\n",
    "        \n",
    "    y_pred_dist = np.asarray(y_pred_dist)\n",
    "    y_pred_dist = y_pred_dist/y_pred_dist.sum()\n",
    "    \n",
    "    y_true_dist = np.asarray(y_true_dist)\n",
    "    y_true_dist = y_true_dist/y_true_dist.sum()\n",
    "    \n",
    "    print(y_pred_dist, y_true_dist)\n",
    "    \n",
    "    return scipy.stats.wasserstein_distance(y_true_dist, y_pred_dist)\n",
    "\n",
    "def get_parameters(band_to_samples, smoothing=10000):\n",
    "    pi = pi_estimate(band_to_samples, smoothing=smoothing)\n",
    "    mu = estimate_mu(band_to_samples)\n",
    "    var = estimate_var(band_to_samples, mu)\n",
    "    \n",
    "    return pi, mu, var\n",
    "\n",
    "def get_distribution(individual):\n",
    "    potato_distribution = {}\n",
    "    weight_distribution = {}\n",
    "    \n",
    "    for k in individual:\n",
    "        potato_distribution[k] = len(potato_distribution[k])\n",
    "        weight_distribution[k] = sum(potato_distribution[k])\n",
    "        \n",
    "    return potato_distribution, weight_distribution\n",
    "    \n",
    "def get_pseudo_counts(count_df, bands, pi_param, mu_param, var_param):\n",
    "    potato_counts = {}\n",
    "    weight_counts = {}\n",
    "\n",
    "    for weight in count_df:\n",
    "        posterior = get_posterior(weight, bands, pi_param, mu_param, var_param)\n",
    "        for band in posterior:\n",
    "            #print(weight)\n",
    "            if band in potato_counts:\n",
    "                potato_counts[band] += posterior[band]\n",
    "                weight_counts[band] += posterior[band]*weight\n",
    "            else:\n",
    "                potato_counts[band] = posterior[band]\n",
    "                weight_counts[band] = posterior[band]*weight\n",
    "    for bands in potato_counts:\n",
    "        potato_counts[bands] = int(round(potato_counts[bands]))\n",
    "    return potato_counts, weight_counts"
   ]
  },
  {
   "cell_type": "code",
   "execution_count": 89,
   "metadata": {
    "collapsed": true
   },
   "outputs": [],
   "source": [
    "def extract_single_count_field(individual, field_name_=None):\n",
    "    single_count = {}\n",
    "    for key in individual:\n",
    "        if not field_name_:\n",
    "            single_count[key] = individual[key]\n",
    "        else:\n",
    "            single_count[key] = [(w,f) for (w,f) in individual[key] if f==field_name_]\n",
    "    return single_count\n",
    "\n",
    "def extract_weights(band_to_counts):\n",
    "    return [item for sublist in \n",
    "            [(lambda x: [a[0] for a in x])(d) for d in [band_to_counts[band] for band in band_to_counts]] \n",
    "            for item in sublist]\n",
    "\n",
    "def extract_fields(band_to_counts):\n",
    "    return [item for sublist in \n",
    "            [(lambda x: [a[1] for a in x])(d) for d in [band_to_counts[band] for band in band_to_counts]] \n",
    "            for item in sublist]"
   ]
  },
  {
   "cell_type": "code",
   "execution_count": 68,
   "metadata": {
    "collapsed": true
   },
   "outputs": [],
   "source": [
    "def infer_softcounts(pi, mu, var, band_keys, single_weights):\n",
    "    potato_counts, weight_counts = get_pseudo_counts(single_weights, band_keys, pi, mu, var)\n",
    "    \n",
    "    return potato_counts, weight_counts\n",
    "\n"
   ]
  },
  {
   "cell_type": "code",
   "execution_count": 69,
   "metadata": {
    "collapsed": true
   },
   "outputs": [],
   "source": [
    "def get_summary(count, potato_counts, weight_counts):\n",
    "    true_counts = dict(list(map(lambda x: (x, len(count[x])), sorted(count.keys()))))\n",
    "    true_weights = dict(list(map(lambda x: (x, sum((lambda y: [y_[0] for y_ in y])(count[x]))), sorted(count.keys()))))\n",
    "    #print(true_counts)\n",
    "    #print(true_weights)\n",
    "    row = []\n",
    "    for z in true_counts:\n",
    "        #print(z)\n",
    "        if true_counts[z] !=0:\n",
    "            #print(true_counts[z])\n",
    "            row.append([z, true_counts[z], potato_counts[z], true_weights[z], weight_counts[z]])\n",
    "    return row\n",
    "\n"
   ]
  },
  {
   "cell_type": "code",
   "execution_count": null,
   "metadata": {
    "collapsed": true
   },
   "outputs": [],
   "source": [
    "\n",
    "\n"
   ]
  },
  {
   "cell_type": "markdown",
   "metadata": {},
   "source": [
    "Batch is dictionary used to infer the pi, mu, and var parameters.\n",
    "\n",
    "The format of batch is as follows:\n",
    "\n",
    "Dictionary of midband_size (or any key) to a list of tuples consisting of (number of potatoes in the batch, total weight of this batch)\n",
    "\n",
    "This can be extended to train a model that only observes batches with a single potato when the count index of the tuple is set to zero.\n",
    "\n",
    "For Example:\n",
    "\n",
    "{47.5 : [(2, 0.16), (3, 0.13],\n",
    " 52.5: [(3, 0.44), (4, 0.58]}"
   ]
  },
  {
   "cell_type": "code",
   "execution_count": 115,
   "metadata": {},
   "outputs": [
    {
     "name": "stdout",
     "output_type": "stream",
     "text": [
      "[0.0035600000000000002, 0.011972081218274104, 0.01645080831408776, 0.027347281449893394, 0.041687554206418044, 0.05940752275994249, 0.08140807715491255, 0.1138546562228024, 0.15070158550396384, 0.19432744043043818]\n"
     ]
    }
   ],
   "source": [
    "\n",
    "individual, batch = load_potato_individual_batch('Jelly')\n",
    "\n",
    "individual, batch = load_potato_individual_batch('Soraya')\n",
    "\n",
    "individual, batch = load_potato_individual_batch('MarisPiper')\n",
    "\n",
    "pi, mu, var = get_parameters(batch, smoothing=10)\n",
    "#print(pi)\n",
    "print(sorted(mu.values()))\n",
    "\n",
    "#print (var)\n"
   ]
  },
  {
   "cell_type": "code",
   "execution_count": 22,
   "metadata": {},
   "outputs": [
    {
     "data": {
      "image/png": "[encoded data removed]",
      "text/plain": [
       "<matplotlib.figure.Figure at 0x1183f7d68>"
      ]
     },
     "metadata": {},
     "output_type": "display_data"
    },
    {
     "data": {
      "image/png": "[encoded data removed]",
      "text/plain": [
       "<matplotlib.figure.Figure at 0x10c722550>"
      ]
     },
     "metadata": {},
     "output_type": "display_data"
    }
   ],
   "source": [
    "def plot_bands(variety):\n",
    "    individual, batch = load_potato_individual_batch(variety)\n",
    "    pi, mu, var = get_parameters(batch, smoothing=10)\n",
    "       \n",
    "    bands=[22.5, 27.5, 32.5, 37.5, 42.5, 47.5, 52.5, 57.5, 62.5, 67.5, 17.5]\n",
    "    mu_list = [];\n",
    "    width=1.5\n",
    "    for i in bands:\n",
    "        mu_list.append(mu[i])\n",
    "        #print(mu[i])\n",
    "    #print(mu_list)\n",
    "\n",
    "    plt.bar(bands, mu_list,width)\n",
    "    plt.text(20,0.23, variety, fontsize=15)\n",
    "    plt.xlabel('band size')\n",
    "    plt.ylabel(r'$\\mu$')\n",
    "    plt.show()\n",
    "    \n",
    "plot_bands('Soraya')\n",
    "plot_bands('Jelly')\n",
    "#plot_bands('MarisPiper')"
   ]
  },
  {
   "cell_type": "markdown",
   "metadata": {},
   "source": [
    "The above is used to infer the parameters that define the GMM model. Each potato type should have a correspoding pi,mu,var distribution.\n",
    "\n",
    "Each pi, mu, var is a dictionary that takes a midband (or key) to a value.\n",
    "\n",
    "For example\n",
    "\n",
    "pi\n",
    "\n",
    "{47.5: 0.1786898839137645, 42.5: 0.1521181968943163, 37.5: 0.11623699683401176, 32.5: 0.0743253429820594, 17.5: 0.010553294135383688, 27.5: 0.050165837479270316, 52.5: 0.14589929142167948, 57.5: 0.09867330016583747, 62.5: 0.09215287200361827, 22.5: 0.02570480928689884, 67.5: 0.055480174883159955}\n",
    "\n",
    "mu\n",
    "\n",
    "{47.5: 0.08847554406377935, 42.5: 0.06120198170731706, 37.5: 0.04079054959785523, 32.5: 0.025923076923076927, 17.5: 0.005761111111111112, 27.5: 0.015037367993501213, 52.5: 0.12094139485547599, 57.5: 0.15264972200158852, 62.5: 0.19926865671641794, 22.5: 0.008689003436426118, 67.5: 0.2528002915451895}\n",
    "\n",
    "var\n",
    "\n",
    "{47.5: 0.00292453065317232, 42.5: 0.001099695245587785, 37.5: 0.0004170699631294448, 32.5: 0.00018560252925603582, 17.5: 2.2212023294166153e-05, 27.5: 6.619688294006363e-05, 52.5: 0.004516732059708424, 57.5: 0.0035902443599080632, 62.5: 0.006388983352502105, 22.5: 4.074631549495012e-05, 67.5: 0.00880614116014235}\n",
    "\n",
    "The values of pi should always sum to (one) and form a distribution. The keys of the dictionary should be consistent between all three dictionaries."
   ]
  },
  {
   "cell_type": "markdown",
   "metadata": {},
   "source": [
    "# Soraya"
   ]
  },
  {
   "cell_type": "code",
   "execution_count": 116,
   "metadata": {},
   "outputs": [
    {
     "name": "stdout",
     "output_type": "stream",
     "text": [
      "Somerlayton\n",
      "    MidBand  True Count  Predicted Count  True Weight  Predicted Weight\n",
      "0      17.5           2                1       0.0098          0.003016\n",
      "1      22.5           4                2       0.0257          0.016340\n",
      "2      27.5           7                4       0.0925          0.064771\n",
      "3      32.5           4                8       0.0743          0.256634\n",
      "4      37.5          22               20       0.7489          0.994423\n",
      "5      42.5          40               35       2.2147          2.379675\n",
      "6      47.5          39               54       3.0565          4.530058\n",
      "7      52.5          30               28       3.2879          2.677536\n",
      "8      57.5          36               22       5.0337          2.602515\n",
      "9      62.5           8               15       1.5361          2.093210\n",
      "10     67.5           1                5       0.2484          0.710322\n",
      "Yr 1 variety trial Field\n",
      "    MidBand  True Count  Predicted Count  True Weight  Predicted Weight\n",
      "0      17.5          11                1       0.0408          0.003550\n",
      "1      22.5           3                2       0.0239          0.013689\n",
      "2      27.5           2                3       0.0289          0.038297\n",
      "3      32.5           3                5       0.0760          0.126029\n",
      "4      37.5          13               12       0.4721          0.610932\n",
      "5      42.5          16               27       0.9534          2.028627\n",
      "6      47.5          37               46       3.1252          4.363662\n",
      "7      52.5          46               26       5.2695          2.739644\n",
      "8      57.5          22               22       3.2834          2.795234\n",
      "9      62.5          11               16       1.9823          2.104623\n",
      "10     67.5           1                5       0.2243          0.655511\n",
      "F1\n",
      "   MidBand  True Count  Predicted Count  True Weight  Predicted Weight\n",
      "0     17.5           9                1       0.0394          0.006734\n",
      "1     22.5          11                5       0.0955          0.043814\n",
      "2     27.5          20               14       0.3030          0.285090\n",
      "3     32.5          40               33       0.9934          1.044143\n",
      "4     37.5          86               59       3.1418          2.488803\n",
      "5     42.5         112               75       5.9827          3.470455\n",
      "6     47.5          46               84       3.4685          4.180768\n",
      "7     52.5           4               33       0.4171          1.763539\n",
      "8     57.5           4               16       0.4783          0.948207\n"
     ]
    }
   ],
   "source": [
    "#individual, batch = load_potato_individual_batch('Jelly')\n",
    "\n",
    "individual, batch = load_potato_individual_batch('Soraya')\n",
    "\n",
    "pi, mu, var = get_parameters(batch, smoothing=10)\n",
    "#print(pi)\n",
    "#print(mu)\n",
    "#print (var)\n",
    "\n",
    "for field in set(extract_fields(extract_single_count_field(individual))):\n",
    "    potato_counts, weight_counts = infer_softcounts(pi, mu, var, pi.keys(), extract_weights(extract_single_count_field(individual, field_name_=field)))\n",
    "\n",
    "    summary = get_summary(extract_single_count_field(individual, field_name_=field), potato_counts, weight_counts)\n",
    "    #print(sorted(summary))\n",
    "    df = pd.DataFrame(sorted(summary), columns=[\"MidBand\", \"True Count\", \"Predicted Count\", \"True Weight\", \"Predicted Weight\"])  \n",
    "\n",
    "    true_weight = np.asarray(df[df.columns[3]])\n",
    "    pred_weight = np.asarray(df[df.columns[4]])\n",
    "    #print(true_weight.sum()) \n",
    "    #print(pred_weight.sum()) \n",
    "    true_weight = true_weight/true_weight.sum()\n",
    "    pred_weight = pred_weight/pred_weight.sum()\n",
    "    #print(true_weight.sum())\n",
    "    \n",
    "    #break\n",
    "    \n",
    "\n",
    "    print(field)\n",
    "    print (df)\n",
    "    #print(sorted(summary))\n",
    " "
   ]
  },
  {
   "cell_type": "markdown",
   "metadata": {},
   "source": [
    "The important method is the infer_softcounts one. It takes in the parameters that define the model (pi, mu, var), a set of band keys, and a list of weights. The band keys should simply be the key set of pi,mu,var. \n",
    "\n",
    "The final parameter is a list of potato weights we would like to make inference over. Inference can be made over a single potato by passing in the singleton list. \n",
    "\n",
    "Each weight is allocated using the softcount method. Potato counts is distribution the individual count of the potatoes among the bands. Weight counts distributed the weight in a proportional manner. \n",
    "\n",
    "An example potato_counts and weight_counts is shown below\n",
    "\n",
    "Potato Counts\n",
    "\n",
    "{47.5: 44.774030292441516, 42.5: 36.690041961325115, 37.5: 19.823114127582677, 32.5: 8.7957592045147983, 17.5: 1.8464891380126214, 27.5: 6.4005867373626515, 52.5: 32.754916213164577, 57.5: 20.311396587078438, 62.5: 11.707007889737865, 22.5: 3.9027372399483604, 67.5: 3.9939206088313677}\n",
    "\n",
    "Weight Counts\n",
    "\n",
    "{47.5: 4.3583307865433856, 42.5: 2.6982242160522643, 37.5: 0.98072189477609273, 32.5: 0.23676820599117826, 17.5: 0.011141208895020441, 27.5: 0.086793113578204184, 52.5: 3.660040901831084, 57.5: 2.5701036211643071, 62.5: 1.5783660268738493, 22.5: 0.032421668336985648, 67.5: 0.56830835595762463}"
   ]
  },
  {
   "cell_type": "code",
   "execution_count": 208,
   "metadata": {
    "collapsed": true
   },
   "outputs": [],
   "source": [
    "#print(np.asarray(df[df.columns[3]]))\n",
    "#print(np.asarray(df[df.columns[4]]))"
   ]
  },
  {
   "cell_type": "code",
   "execution_count": 206,
   "metadata": {
    "collapsed": true
   },
   "outputs": [],
   "source": [
    "sorted_weight = [x for _, x in sorted(zip(np.asarray(df[df.columns[0]]),np.asarray(df[df.columns[3]])), key=lambda pair: pair[0])]\n"
   ]
  },
  {
   "cell_type": "code",
   "execution_count": 209,
   "metadata": {},
   "outputs": [
    {
     "name": "stdout",
     "output_type": "stream",
     "text": [
      "58 0.47400000000000014\n"
     ]
    }
   ],
   "source": [
    "tot_band_potatos = 0;\n",
    "tot_band_weight = 0;\n",
    "for (band_count, band_weight) in batch[22.5]:\n",
    "    tot_band_potatos +=band_count\n",
    "    tot_band_weight += band_weight\n",
    "    #print(band_count, band_weight)\n",
    "\n",
    "print(tot_band_potatos,tot_band_weight)"
   ]
  },
  {
   "cell_type": "markdown",
   "metadata": {},
   "source": [
    "# Jelly"
   ]
  },
  {
   "cell_type": "code",
   "execution_count": 117,
   "metadata": {},
   "outputs": [
    {
     "name": "stdout",
     "output_type": "stream",
     "text": [
      "Somerlayton\n",
      "    MidBand  True Count  Predicted Count  True Weight  Predicted Weight\n",
      "0      17.5           7                1      0.02750          0.008356\n",
      "1      22.5           7                4      0.06590          0.030625\n",
      "2      27.5           6                6      0.09780          0.086091\n",
      "3      32.5           6                9      0.14830          0.234728\n",
      "4      37.5          15               20      0.60440          0.978899\n",
      "5      42.5          28               37      1.69960          2.706552\n",
      "6      47.5          43               45      3.51820          4.391323\n",
      "7      52.5          38               33      4.37782          3.675351\n",
      "8      57.5          28               20      3.89510          2.553379\n",
      "9      62.5          12               12      2.10810          1.565884\n",
      "10     67.5           1                4      0.23850          0.550033\n",
      "RHP\n",
      "   MidBand  True Count  Predicted Count  True Weight  Predicted Weight\n",
      "0     17.5          13                3       0.0628          0.018169\n",
      "1     22.5          10                8       0.0884          0.073549\n",
      "2     27.5          17               16       0.2481          0.238147\n",
      "3     32.5          31               26       0.7998          0.727764\n",
      "4     37.5          44               45       1.7498          1.945186\n",
      "5     42.5          60               53       3.5652          3.099218\n",
      "6     47.5          39               43       3.3675          2.977912\n",
      "7     52.5          21               24       2.4366          1.844201\n",
      "8     57.5           1               10       0.2066          0.940381\n",
      "Irby Hall Nort\n",
      "   MidBand  True Count  Predicted Count  True Weight  Predicted Weight\n",
      "0     17.5           9                3       0.0421          0.019602\n",
      "1     22.5          17                9       0.1548          0.093638\n",
      "2     27.5          23               22       0.3733          0.369664\n",
      "3     32.5          46               38       1.1360          1.071854\n",
      "4     37.5          57               64       2.1516          2.707749\n",
      "5     42.5          79               70       4.5079          3.967546\n",
      "6     47.5          51               55       4.1205          3.570994\n",
      "7     52.5          23               30       2.3676          2.154211\n",
      "8     57.5           5               12       0.7077          1.056897\n",
      "9     62.5           1                7       0.2340          0.590066\n",
      "Middle Allotment\n",
      "   MidBand  True Count  Predicted Count  True Weight  Predicted Weight\n",
      "0     17.5          15                3       0.0675          0.024304\n",
      "1     22.5          17               11       0.1549          0.106132\n",
      "2     27.5          27               23       0.4077          0.352587\n",
      "3     32.5          42               34       1.0705          0.885905\n",
      "4     37.5          47               49       1.8359          1.886294\n",
      "5     42.5          44               46       2.4455          2.263181\n",
      "6     47.5          29               33       2.3248          1.660010\n",
      "7     52.5           3               16       0.2805          0.870586\n"
     ]
    }
   ],
   "source": [
    "individual, batch = load_potato_individual_batch('Jelly')\n",
    "\n",
    "\n",
    "pi, mu, var = get_parameters(batch, smoothing=10)\n",
    "\n",
    "for field in set(extract_fields(extract_single_count_field(individual))):\n",
    "    potato_counts, weight_counts = infer_softcounts(pi, mu, var, pi.keys(), extract_weights(extract_single_count_field(individual, field_name_=field)))\n",
    "\n",
    "    summary = get_summary(extract_single_count_field(individual, field_name_=field), potato_counts, weight_counts)\n",
    "    df = pd.DataFrame(sorted(summary), columns=[\"MidBand\", \"True Count\", \"Predicted Count\", \"True Weight\", \"Predicted Weight\"])  \n",
    "\n",
    "    true_weight = np.asarray(df[df.columns[3]])\n",
    "    pred_weight = np.asarray(df[df.columns[4]])\n",
    "    #print(true_weight.sum()) \n",
    "    #print(pred_weight.sum()) \n",
    "    true_weight = true_weight/true_weight.sum()\n",
    "    pred_weight = pred_weight/pred_weight.sum()\n",
    "    \n",
    "    #break\n",
    "\n",
    "    print(field)\n",
    "    print (df)\n",
    "    #print(sorted(summary))    "
   ]
  },
  {
   "cell_type": "markdown",
   "metadata": {},
   "source": [
    "# MarisPiper"
   ]
  },
  {
   "cell_type": "code",
   "execution_count": 98,
   "metadata": {},
   "outputs": [
    {
     "name": "stdout",
     "output_type": "stream",
     "text": [
      "Duffy\n",
      "   MidBand  True Count  Predicted Count  True Weight  Predicted Weight\n",
      "0     17.5          23                3       0.0787          0.010405\n",
      "1     22.5          20                9       0.1721          0.158232\n",
      "2     27.5          56               58       0.8653          1.012282\n",
      "3     32.5          90               87       2.3360          2.298167\n",
      "4     37.5          84               82       3.1307          2.611204\n",
      "5     42.5          36               47       1.8976          1.734992\n",
      "6     47.5           6               21       0.4724          0.876699\n",
      "7     52.5           2                7       0.1903          0.313265\n",
      "R21\n",
      "   MidBand  True Count  Predicted Count  True Weight  Predicted Weight\n",
      "0     17.5          12                1       0.0587          0.004240\n",
      "1     22.5          31                8       0.2988          0.139876\n",
      "2     27.5          66               60       1.0794          1.023255\n",
      "3     32.5          47               73       1.2737          1.848424\n",
      "4     37.5          83               68       2.8706          2.139762\n",
      "5     42.5          35               40       2.0248          1.436986\n",
      "M12\n",
      "   MidBand  True Count  Predicted Count  True Weight  Predicted Weight\n",
      "0     17.5           7                1       0.0301          0.003599\n",
      "1     22.5          16                3       0.1292          0.049607\n",
      "2     27.5          18               20       0.2854          0.295212\n",
      "3     32.5          14               33       0.3109          1.042062\n",
      "4     37.5          23               50       0.8663          2.450299\n",
      "5     42.5          59               57       3.2002          3.938153\n",
      "6     47.5          65               54       5.3569          4.792918\n",
      "7     52.5          46               36       5.0693          3.979757\n",
      "8     57.5          30               22       4.2494          2.858096\n",
      "9     62.5           7               10       1.2189          1.306897\n",
      "582\n",
      "   MidBand  True Count  Predicted Count  True Weight  Predicted Weight\n",
      "0     17.5           7                1       0.0307          0.003602\n",
      "1     22.5          14                4       0.1161          0.094227\n",
      "2     27.5          15               29       0.2368          0.534951\n",
      "3     32.5          52               56       1.2990          1.799810\n",
      "4     37.5          58               69       2.1406          2.880063\n",
      "5     42.5          62               52       3.2481          2.643136\n",
      "6     47.5          35               29       2.4778          1.772254\n",
      "7     52.5          11               11       1.0984          0.751521\n",
      "8     57.5           2                4       0.2312          0.293389\n"
     ]
    }
   ],
   "source": [
    "individual, batch = load_potato_individual_batch('MarisPiper')\n",
    "\n",
    "\n",
    "pi, mu, var = get_parameters(batch, smoothing=10)\n",
    "\n",
    "for field in set(extract_fields(extract_single_count_field(individual))):\n",
    "    potato_counts, weight_counts = infer_softcounts(pi, mu, var, pi.keys(), extract_weights(extract_single_count_field(individual, field_name_=field)))\n",
    "\n",
    "    summary = get_summary(extract_single_count_field(individual, field_name_=field), potato_counts, weight_counts)\n",
    "    df = pd.DataFrame(sorted(summary), columns=[\"MidBand\", \"True Count\", \"Predicted Count\", \"True Weight\", \"Predicted Weight\"])  \n",
    "\n",
    "    true_weight = np.asarray(df[df.columns[3]])\n",
    "    pred_weight = np.asarray(df[df.columns[4]])\n",
    "    #print(true_weight.sum()) \n",
    "    #print(pred_weight.sum()) \n",
    "    true_weight = true_weight/true_weight.sum()\n",
    "    pred_weight = pred_weight/pred_weight.sum()\n",
    "    \n",
    "    #break\n",
    "    \n",
    "\n",
    "    print(field)\n",
    "    print (df)\n",
    "    #print(sorted(summary))\n",
    "    "
   ]
  },
  {
   "cell_type": "code",
   "execution_count": 152,
   "metadata": {},
   "outputs": [
    {
     "data": {
      "text/plain": [
       "42.5"
      ]
     },
     "execution_count": 152,
     "metadata": {},
     "output_type": "execute_result"
    }
   ],
   "source": [
    "bands=[22.5, 27.5, 32.5, 37.5, 42.5, 47.5, 52.5, 57.5, 62.5, 67.5, 17.5]\n",
    "np.mean(bands)"
   ]
  },
  {
   "cell_type": "code",
   "execution_count": null,
   "metadata": {
    "collapsed": true
   },
   "outputs": [],
   "source": []
  }
 ],
 "metadata": {
  "kernelspec": {
   "display_name": "Python [default]",
   "language": "python",
   "name": "python3"
  },
  "language_info": {
   "codemirror_mode": {
    "name": "ipython",
    "version": 3
   },
   "file_extension": ".py",
   "mimetype": "text/x-python",
   "name": "python",
   "nbconvert_exporter": "python",
   "pygments_lexer": "ipython3",
   "version": "3.5.3"
  }
 },
 "nbformat": 4,
 "nbformat_minor": 2
}
