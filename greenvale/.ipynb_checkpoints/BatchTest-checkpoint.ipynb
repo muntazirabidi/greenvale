{
 "cells": [
  {
   "cell_type": "code",
   "execution_count": 1,
   "metadata": {
    "collapsed": true
   },
   "outputs": [],
   "source": [
    "import numpy as np\n",
    "import matplotlib.pyplot as plt\n",
    "import matplotlib"
   ]
  },
  {
   "cell_type": "code",
   "execution_count": 4,
   "metadata": {
    "collapsed": true
   },
   "outputs": [],
   "source": [
    "import pandas as pd\n",
    "import numpy as np\n",
    "import matplotlib.pyplot as plt\n",
    "import csv\n",
    "import scipy.stats\n",
    "\n",
    "\n",
    "df = pd.read_csv('TuberWeights_13.07.18.csv')\n",
    "df_soraya = df.loc[df['Variety'] == 'Soraya'].copy()\n",
    "df_venezia = df.loc[df['Variety'] == 'Venezia'].copy()\n",
    "\n",
    "df_soraya = df_soraya[['MidSize', 'TuberWeight', 'CubeRoot']]\n",
    "df_venezia = df_venezia[['MidSize', 'TuberWeight', 'CubeRoot']]\n",
    "\n",
    "def extract_samples(df, elem='TuberWeight'):\n",
    "    samples = {}\n",
    "    for mid_size, tuber_weight in zip(df['MidSize'], df[elem]):\n",
    "        if mid_size in samples:\n",
    "            samples[mid_size].append(tuber_weight)\n",
    "        else:\n",
    "            samples[mid_size] = [tuber_weight]\n",
    "    return samples\n",
    "\n",
    "samples_soraya_w = extract_samples(df_soraya)\n",
    "samples_soraya_cr = extract_samples(df_soraya, 'CubeRoot')\n",
    "\n",
    "samples_venezia_w = extract_samples(df_venezia)\n",
    "samples_venezia_cr = extract_samples(df_venezia, 'CubeRoot')\n",
    "        \n",
    "true_dist_soraya = [(x, len(samples_soraya_w[x])) for x in samples_soraya_w]\n",
    "true_dist_venezia = [(x, len(samples_venezia_w[x])) for x in samples_venezia_w]\n"
   ]
  },
  {
   "cell_type": "code",
   "execution_count": 54,
   "metadata": {
    "collapsed": true
   },
   "outputs": [],
   "source": [
    "def create_batches(list_in, alpha=0, theta=1):\n",
    "    current_index = 0\n",
    "    batch_list = []\n",
    "    \n",
    "    assert (0 <= alpha and alpha < 1) and theta > -alpha\n",
    "    for n, weight in enumerate(list_in):\n",
    "        p = np.random.binomial(1, p=(theta+len(batch_list)*alpha)/(n+theta))\n",
    "        if(p == 1):\n",
    "            batch_list.append([weight])\n",
    "        else:\n",
    "            probabilities = np.asarray([len(x)-alpha for x in batch_list], dtype='float32')\n",
    "            probabilities = probabilities/probabilities.sum()\n",
    "            table = np.random.choice(range(len(batch_list)), 1, p=probabilities)[0]\n",
    "            batch_list[table].append(weight)\n",
    "    batch_list = [(len(x), np.sum(x)) for x in batch_list]\n",
    "    return batch_list\n",
    "\n",
    "# print(create_batches(samples_soraya_w[17.5], alpha=0.2))\n",
    "\n",
    "band_to_samples_soraya_w = dict([(x, create_batches(samples_soraya_w[x], alpha=0.2)) for x in samples_soraya_w])\n",
    "band_to_samples_soraya_cr = dict([(x, create_batches(samples_soraya_cr[x], alpha=0.2)) for x in samples_soraya_cr])\n",
    "\n",
    "band_to_samples_venezia_w = dict([(x, create_batches(samples_venezia_w[x], alpha=0.2)) for x in samples_venezia_w])\n",
    "band_to_samples_venezia_cr = dict([(x, create_batches(samples_venezia_cr[x], alpha=0.2)) for x in samples_venezia_cr])\n"
   ]
  },
  {
   "cell_type": "code",
   "execution_count": 55,
   "metadata": {
    "collapsed": true
   },
   "outputs": [],
   "source": [
    "def pi_estimate(band_to_samples, smoothing=0):\n",
    "    pi_sum = {}\n",
    "    num_potatoes = 0\n",
    "    for band in band_to_samples:\n",
    "        total_sum = 0\n",
    "        for (batch_size, batch_weight) in band_to_samples[band]:\n",
    "            total_sum += batch_size\n",
    "        pi_sum[band] = total_sum+smoothing\n",
    "        num_potatoes += total_sum+smoothing\n",
    "    pi_dist = {}\n",
    "    for band in pi_sum:\n",
    "        pi_dist[band] = pi_sum[band]/num_potatoes\n",
    "    return pi_dist\n",
    "\n",
    "def estimate_mu(band_to_samples):\n",
    "    mu = {}\n",
    "    for band in band_to_samples:\n",
    "        total_weight = 0\n",
    "        total_potatoes = 0\n",
    "        for (batch_size, batch_weight) in band_to_samples[band]:\n",
    "            total_weight += batch_weight\n",
    "            total_potatoes += batch_size\n",
    "        mu[band] = total_weight/total_potatoes\n",
    "    return mu\n",
    "\n",
    "def estimate_var(band_to_samples, mu_estimate):\n",
    "    var = {}\n",
    "    for band in band_to_samples:\n",
    "        square_diff_sum = 0 \n",
    "        for (batch_size, batch_weight) in band_to_samples[band]:\n",
    "            square_diff_sum += (batch_weight - batch_size*mu_estimate[band])**2/batch_size\n",
    "        var[band] = max(square_diff_sum/len(band_to_samples[band]), 1e-2)\n",
    "    return var\n",
    "\n",
    "\n",
    "def get_posterior(weight, band_to_samples, pi_estimate, mu_estimate, var_estimate):\n",
    "    post_prop = {}\n",
    "    sum_post = 0\n",
    "    post = {}\n",
    "    for band in band_to_samples:\n",
    "        norm_dist = scipy.stats.norm(mu_estimate[band], var_estimate[band]**(1/2))\n",
    "        post_prop[band] = norm_dist.pdf(weight)*pi_estimate[band]\n",
    "        sum_post += post_prop[band]\n",
    "\n",
    "    for band in post_prop:\n",
    "        post[band] = post_prop[band]/sum_post\n",
    "    return post\n",
    "\n",
    "def get_argmax(posterior):\n",
    "    key_max = None\n",
    "    max_value = 0.0\n",
    "    for band in posterior:\n",
    "        if posterior[band] > max_value:\n",
    "            max_value = posterior[band]\n",
    "            key_max = band\n",
    "    return key_max\n",
    "\n",
    "def kl(p, q):\n",
    "    \"\"\"Kullback-Leibler divergence D(P || Q) for discrete distributions\n",
    "    Parameters\n",
    "    ----------\n",
    "    p, q : array-like, dtype=float, shape=n\n",
    "    Discrete probability distributions.\n",
    "    \"\"\"\n",
    "    p = np.asarray(p, dtype=np.float)\n",
    "    q = np.asarray(q, dtype=np.float)\n",
    "\n",
    "    return np.sum(np.where(p != 0, p * np.log(p / q), 0))\n",
    "\n",
    "def calculate_KL(y_pred, y_true):\n",
    "    y_pred = dict(y_pred)\n",
    "    y_true = dict(y_true)\n",
    "    \n",
    "    y_pred_dist = []\n",
    "    y_true_dist = []\n",
    "    \n",
    "    for i in y_pred:\n",
    "        y_pred_dist.append(y_pred[i])\n",
    "        y_true_dist.append(y_true[i])\n",
    "        \n",
    "    y_pred_dist = np.asarray(y_pred_dist)\n",
    "    y_pred_dist = y_pred_dist/y_pred_dist.sum()\n",
    "    \n",
    "    y_true_dist = np.asarray(y_true_dist)\n",
    "    y_true_dist = y_true_dist/y_true_dist.sum()\n",
    "    \n",
    "    return kl(y_true_dist, y_pred_dist)\n",
    "\n",
    "def calculate_W(y_pred, y_true):\n",
    "    y_pred = dict(y_pred)\n",
    "    y_true = dict(y_true)\n",
    "    \n",
    "    y_pred_dist = []\n",
    "    y_true_dist = []\n",
    "    \n",
    "    for i in y_pred:\n",
    "        y_pred_dist.append(y_pred[i])\n",
    "        y_true_dist.append(y_true[i])\n",
    "        \n",
    "    y_pred_dist = np.asarray(y_pred_dist)\n",
    "    y_pred_dist = y_pred_dist/y_pred_dist.sum()\n",
    "    \n",
    "    y_true_dist = np.asarray(y_true_dist)\n",
    "    y_true_dist = y_true_dist/y_true_dist.sum()\n",
    "    \n",
    "    return scipy.stats.wasserstein_distance(y_true_dist, y_pred_dist)\n",
    "\n"
   ]
  },
  {
   "cell_type": "code",
   "execution_count": 56,
   "metadata": {
    "collapsed": true
   },
   "outputs": [],
   "source": [
    "def get_pseudo_counts(band_to_samples, count_df):\n",
    "    pi = pi_estimate(band_to_samples, smoothing=0)\n",
    "    mu = estimate_mu(band_to_samples)\n",
    "    var = estimate_var(band_to_samples, mu)\n",
    "    \n",
    "    potato_counts = {}\n",
    "\n",
    "    for weight in count_df:\n",
    "        posterior = get_posterior(weight, band_to_samples, pi, mu, var)\n",
    "        for band in posterior:\n",
    "            if band in potato_counts:\n",
    "                potato_counts[band]+= posterior[band]\n",
    "            else:\n",
    "                potato_counts[band] = posterior[band]\n",
    "    return potato_counts"
   ]
  },
  {
   "cell_type": "code",
   "execution_count": 57,
   "metadata": {},
   "outputs": [
    {
     "name": "stdout",
     "output_type": "stream",
     "text": [
      "True Distribution : \n",
      " {17.5: 28, 22.5: 59, 27.5: 72, 32.5: 54, 37.5: 63, 42.5: 25, 47.5: 2}\n",
      "\n",
      "Estimated distribution based on TuborWeight :\n",
      " {17.5: 26.870576673341414, 22.5: 61.023965772208626, 27.5: 76.32950092256951, 32.5: 41.10413114277664, 37.5: 70.4808530211447, 42.5: 27.190972467959096, 47.5: 1.6143638852873784e-150}\n",
      "KL Divergence of categorical distribution :\n",
      " 2.2829322359399264\n",
      "W Distance of categorical distribution :\n",
      " 0.014808954633912543\n",
      "\n",
      "Estimated distribution based on CubeRoot :\n",
      " {17.5: 30.873252520808702, 22.5: 53.746416596272155, 27.5: 80.4873216877555, 32.5: 42.71441158231843, 37.5: 66.67151183037393, 42.5: 26.562363908785354, 47.5: 1.9447218736859675}\n",
      "KL Divergence of categorical distribution :\n",
      " 0.007842190690132363\n",
      "W Distance of categorical distribution :\n",
      " 0.01564776044104051\n"
     ]
    }
   ],
   "source": [
    "pseudo_v_w = get_pseudo_counts(band_to_samples_venezia_w, df_venezia['TuberWeight'])\n",
    "pseudo_v_cr = get_pseudo_counts(band_to_samples_venezia_cr, df_venezia['CubeRoot'])\n",
    "\n",
    "print('True Distribution : \\n', dict(true_dist_venezia))\n",
    "print()\n",
    "print('Estimated distribution based on TuborWeight :\\n', pseudo_v_w)\n",
    "print('KL Divergence of categorical distribution :\\n', calculate_KL(pseudo_v_w, true_dist_venezia))\n",
    "print('W Distance of categorical distribution :\\n', calculate_W(pseudo_v_w, true_dist_venezia))\n",
    "print()\n",
    "print('Estimated distribution based on CubeRoot :\\n', pseudo_v_cr)\n",
    "print('KL Divergence of categorical distribution :\\n', calculate_KL(pseudo_v_cr, true_dist_venezia))\n",
    "print('W Distance of categorical distribution :\\n', calculate_W(pseudo_v_cr, true_dist_venezia))"
   ]
  },
  {
   "cell_type": "code",
   "execution_count": 66,
   "metadata": {},
   "outputs": [
    {
     "name": "stdout",
     "output_type": "stream",
     "text": [
      "30.87\n",
      "53.75\n",
      "80.49\n",
      "42.71\n",
      "66.67\n",
      "26.56\n",
      "1.94\n"
     ]
    }
   ],
   "source": [
    "for x in pseudo_v_w:\n",
    "    print(round(pseudo_v_cr[x],2))"
   ]
  },
  {
   "cell_type": "code",
   "execution_count": 59,
   "metadata": {},
   "outputs": [
    {
     "name": "stdout",
     "output_type": "stream",
     "text": [
      "True Distribution : \n",
      " {17.5: 11, 22.5: 3, 27.5: 2, 32.5: 3, 37.5: 13, 42.5: 16, 47.5: 37, 52.5: 46, 57.5: 22, 62.5: 11, 67.5: 1}\n",
      "\n",
      "Estimated distribution based on TuborWeight :\n",
      " {17.5: 10.759406082964086, 22.5: 3.2509340202938404, 27.5: 1.500107259585127, 32.5: 3.9491272247045384, 37.5: 14.207404274656588, 42.5: 15.353980196160027, 47.5: 34.22395247551483, 52.5: 44.31947870555991, 57.5: 24.74723000928103, 62.5: 11.689772407610773, 67.5: 0.998607343669275}\n",
      "KL Divergence of categorical distribution :\n",
      " 0.003630350777927744\n",
      "W Distance of categorical distribution :\n",
      " 0.0064401850540460204\n",
      "\n",
      "Estimated distribution based on CubeRoot :\n",
      " {17.5: 9.341209068777237, 22.5: 4.6420718632899955, 27.5: 2.0169878797348617, 32.5: 3.920397409488778, 37.5: 13.24101268605029, 42.5: 15.045432193586851, 47.5: 41.87506031067342, 52.5: 35.97947366089835, 57.5: 25.632384600454095, 62.5: 12.243060596946329, 67.5: 1.0629097300998527}\n",
      "KL Divergence of categorical distribution :\n",
      " 0.015368694943750988\n",
      "W Distance of categorical distribution :\n",
      " 0.008549669163707089\n"
     ]
    }
   ],
   "source": [
    "pseudo_s_w = get_pseudo_counts(band_to_samples_soraya_w, df_soraya['TuberWeight'])\n",
    "pseudo_s_cr = get_pseudo_counts(band_to_samples_soraya_cr, df_soraya['CubeRoot'])\n",
    "\n",
    "print('True Distribution : \\n', dict(true_dist_soraya))\n",
    "print()\n",
    "print('Estimated distribution based on TuborWeight :\\n', pseudo_s_w)\n",
    "print('KL Divergence of categorical distribution :\\n', calculate_KL(pseudo_s_w, true_dist_soraya))\n",
    "print('W Distance of categorical distribution :\\n', calculate_W(pseudo_s_w, true_dist_soraya))\n",
    "\n",
    "print()\n",
    "print('Estimated distribution based on CubeRoot :\\n', pseudo_s_cr)\n",
    "print('KL Divergence of categorical distribution :\\n', calculate_KL(pseudo_s_cr, true_dist_soraya))\n",
    "print('W Distance of categorical distribution :\\n', calculate_W(pseudo_s_cr, true_dist_soraya))\n"
   ]
  },
  {
   "cell_type": "code",
   "execution_count": 63,
   "metadata": {},
   "outputs": [
    {
     "name": "stdout",
     "output_type": "stream",
     "text": [
      "9.34\n",
      "4.64\n",
      "2.02\n",
      "3.92\n",
      "13.24\n",
      "15.05\n",
      "41.88\n",
      "35.98\n",
      "25.63\n",
      "12.24\n",
      "1.06\n"
     ]
    }
   ],
   "source": []
  },
  {
   "cell_type": "code",
   "execution_count": null,
   "metadata": {
    "collapsed": true
   },
   "outputs": [],
   "source": []
  }
 ],
 "metadata": {
  "kernelspec": {
   "display_name": "Python [default]",
   "language": "python",
   "name": "python3"
  },
  "language_info": {
   "codemirror_mode": {
    "name": "ipython",
    "version": 3
   },
   "file_extension": ".py",
   "mimetype": "text/x-python",
   "name": "python",
   "nbconvert_exporter": "python",
   "pygments_lexer": "ipython3",
   "version": "3.5.3"
  }
 },
 "nbformat": 4,
 "nbformat_minor": 2
}
