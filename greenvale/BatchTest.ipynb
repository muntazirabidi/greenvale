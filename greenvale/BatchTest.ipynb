{
 "cells": [
  {
   "cell_type": "code",
   "execution_count": 9,
   "metadata": {
    "collapsed": true
   },
   "outputs": [],
   "source": [
    "import numpy as np\n",
    "import matplotlib.pyplot as plt\n",
    "import matplotlib"
   ]
  },
  {
   "cell_type": "code",
   "execution_count": 28,
   "metadata": {
    "collapsed": true
   },
   "outputs": [],
   "source": [
    "import pandas as pd\n",
    "import numpy as np\n",
    "import matplotlib.pyplot as plt\n",
    "import csv\n",
    "import scipy.stats\n",
    "\n",
    "\n",
    "df = pd.read_csv('TuberWeights_13.07.18.csv')\n",
    "df = pd.read_csv('TuberWeights_17.07.18.csv')\n",
    "df_soraya = df.loc[df['Variety'] == 'Soraya'].copy()\n",
    "df_venezia = df.loc[df['Variety'] == 'Venezia'].copy()\n",
    "\n",
    "df_soraya = df_soraya[['MidSize', 'TuberWeight', 'CubeRoot']]\n",
    "df_venezia = df_venezia[['MidSize', 'TuberWeight', 'CubeRoot']]\n",
    "\n",
    "def extract_samples(df, elem='TuberWeight'):\n",
    "    samples = {}\n",
    "    for mid_size, tuber_weight in zip(df['MidSize'], df[elem]):\n",
    "        if mid_size in samples:\n",
    "            samples[mid_size].append(tuber_weight)\n",
    "        else:\n",
    "            samples[mid_size] = [tuber_weight]\n",
    "    return samples\n",
    "\n",
    "samples_soraya_w = extract_samples(df_soraya)\n",
    "samples_soraya_cr = extract_samples(df_soraya, 'CubeRoot')\n",
    "\n",
    "samples_venezia_w = extract_samples(df_venezia)\n",
    "samples_venezia_cr = extract_samples(df_venezia, 'CubeRoot')\n",
    "        \n",
    "true_dist_soraya = [(x, len(samples_soraya_w[x])) for x in samples_soraya_w]\n",
    "true_dist_venezia = [(x, len(samples_venezia_w[x])) for x in samples_venezia_w]\n"
   ]
  },
  {
   "cell_type": "code",
   "execution_count": 29,
   "metadata": {
    "collapsed": true
   },
   "outputs": [],
   "source": [
    "def create_batches(list_in, alpha=0, theta=1):\n",
    "    current_index = 0\n",
    "    batch_list = []\n",
    "    \n",
    "    assert (0 <= alpha and alpha < 1) and theta > -alpha\n",
    "    for n, weight in enumerate(list_in):\n",
    "        p = np.random.binomial(1, p=(theta+len(batch_list)*alpha)/(n+theta))\n",
    "        if(p == 1):\n",
    "            batch_list.append([weight])\n",
    "        else:\n",
    "            probabilities = np.asarray([len(x)-alpha for x in batch_list], dtype='float32')\n",
    "            probabilities = probabilities/probabilities.sum()\n",
    "            table = np.random.choice(range(len(batch_list)), 1, p=probabilities)[0]\n",
    "            batch_list[table].append(weight)\n",
    "    batch_list = [(len(x), np.sum(x)) for x in batch_list]\n",
    "    return batch_list\n",
    "\n",
    "# print(create_batches(samples_soraya_w[17.5], alpha=0.2))\n",
    "\n",
    "band_to_samples_soraya_w = dict([(x, create_batches(samples_soraya_w[x], alpha=0.2)) for x in samples_soraya_w])\n",
    "band_to_samples_soraya_cr = dict([(x, create_batches(samples_soraya_cr[x], alpha=0.2)) for x in samples_soraya_cr])\n",
    "\n",
    "band_to_samples_venezia_w = dict([(x, create_batches(samples_venezia_w[x], alpha=0.2)) for x in samples_venezia_w])\n",
    "band_to_samples_venezia_cr = dict([(x, create_batches(samples_venezia_cr[x], alpha=0.2)) for x in samples_venezia_cr])\n"
   ]
  },
  {
   "cell_type": "code",
   "execution_count": 30,
   "metadata": {
    "collapsed": true
   },
   "outputs": [],
   "source": [
    "def pi_estimate(band_to_samples, smoothing=0):\n",
    "    pi_sum = {}\n",
    "    num_potatoes = 0\n",
    "    for band in band_to_samples:\n",
    "        total_sum = 0\n",
    "        for (batch_size, batch_weight) in band_to_samples[band]:\n",
    "            total_sum += batch_size\n",
    "        pi_sum[band] = total_sum+smoothing\n",
    "        num_potatoes += total_sum+smoothing\n",
    "    pi_dist = {}\n",
    "    for band in pi_sum:\n",
    "        pi_dist[band] = pi_sum[band]/num_potatoes\n",
    "    return pi_dist\n",
    "\n",
    "def estimate_mu(band_to_samples):\n",
    "    mu = {}\n",
    "    for band in band_to_samples:\n",
    "        total_weight = 0\n",
    "        total_potatoes = 0\n",
    "        for (batch_size, batch_weight) in band_to_samples[band]:\n",
    "            total_weight += batch_weight\n",
    "            total_potatoes += batch_size\n",
    "        mu[band] = total_weight/total_potatoes\n",
    "    return mu\n",
    "\n",
    "def estimate_var(band_to_samples, mu_estimate):\n",
    "    var = {}\n",
    "    for band in band_to_samples:\n",
    "        square_diff_sum = 0 \n",
    "        for (batch_size, batch_weight) in band_to_samples[band]:\n",
    "            square_diff_sum += (batch_weight - batch_size*mu_estimate[band])**2/batch_size\n",
    "        var[band] = max(square_diff_sum/len(band_to_samples[band]), 1e-2)\n",
    "    return var\n",
    "\n",
    "\n",
    "def get_posterior(weight, band_to_samples, pi_estimate, mu_estimate, var_estimate):\n",
    "    post_prop = {}\n",
    "    sum_post = 0\n",
    "    post = {}\n",
    "    for band in band_to_samples:\n",
    "        norm_dist = scipy.stats.norm(mu_estimate[band], var_estimate[band]**(1/2))\n",
    "        post_prop[band] = norm_dist.pdf(weight)*pi_estimate[band]\n",
    "        sum_post += post_prop[band]\n",
    "\n",
    "    for band in post_prop:\n",
    "        post[band] = post_prop[band]/sum_post\n",
    "    return post\n",
    "\n",
    "def get_argmax(posterior):\n",
    "    key_max = None\n",
    "    max_value = 0.0\n",
    "    for band in posterior:\n",
    "        if posterior[band] > max_value:\n",
    "            max_value = posterior[band]\n",
    "            key_max = band\n",
    "    return key_max\n",
    "\n",
    "def kl(p, q):\n",
    "    \"\"\"Kullback-Leibler divergence D(P || Q) for discrete distributions\n",
    "    Parameters\n",
    "    ----------\n",
    "    p, q : array-like, dtype=float, shape=n\n",
    "    Discrete probability distributions.\n",
    "    \"\"\"\n",
    "    p = np.asarray(p, dtype=np.float)\n",
    "    q = np.asarray(q, dtype=np.float)\n",
    "\n",
    "    return np.sum(np.where(p != 0, p * np.log(p / q), 0))\n",
    "\n",
    "def calculate_KL(y_pred, y_true):\n",
    "    y_pred = dict(y_pred)\n",
    "    y_true = dict(y_true)\n",
    "    \n",
    "    y_pred_dist = []\n",
    "    y_true_dist = []\n",
    "    \n",
    "    for i in y_pred:\n",
    "        y_pred_dist.append(y_pred[i])\n",
    "        y_true_dist.append(y_true[i])\n",
    "        \n",
    "    y_pred_dist = np.asarray(y_pred_dist)\n",
    "    y_pred_dist = y_pred_dist/y_pred_dist.sum()\n",
    "    \n",
    "    y_true_dist = np.asarray(y_true_dist)\n",
    "    y_true_dist = y_true_dist/y_true_dist.sum()\n",
    "    \n",
    "    return kl(y_true_dist, y_pred_dist)\n",
    "\n",
    "def calculate_W(y_pred, y_true):\n",
    "    y_pred = dict(y_pred)\n",
    "    y_true = dict(y_true)\n",
    "    \n",
    "    y_pred_dist = []\n",
    "    y_true_dist = []\n",
    "    \n",
    "    for i in y_pred:\n",
    "        y_pred_dist.append(y_pred[i])\n",
    "        y_true_dist.append(y_true[i])\n",
    "        \n",
    "    y_pred_dist = np.asarray(y_pred_dist)\n",
    "    y_pred_dist = y_pred_dist/y_pred_dist.sum()\n",
    "    \n",
    "    y_true_dist = np.asarray(y_true_dist)\n",
    "    y_true_dist = y_true_dist/y_true_dist.sum()\n",
    "    \n",
    "    return scipy.stats.wasserstein_distance(y_true_dist, y_pred_dist)\n",
    "\n"
   ]
  },
  {
   "cell_type": "code",
   "execution_count": 31,
   "metadata": {
    "collapsed": true
   },
   "outputs": [],
   "source": [
    "def get_pseudo_counts(band_to_samples, count_df):\n",
    "    pi = pi_estimate(band_to_samples, smoothing=0)\n",
    "    mu = estimate_mu(band_to_samples)\n",
    "    var = estimate_var(band_to_samples, mu)\n",
    "    \n",
    "    potato_counts = {}\n",
    "\n",
    "    for weight in count_df:\n",
    "        posterior = get_posterior(weight, band_to_samples, pi, mu, var)\n",
    "        for band in posterior:\n",
    "            if band in potato_counts:\n",
    "                potato_counts[band]+= posterior[band]\n",
    "            else:\n",
    "                potato_counts[band] = posterior[band]\n",
    "    return potato_counts"
   ]
  },
  {
   "cell_type": "code",
   "execution_count": 32,
   "metadata": {},
   "outputs": [
    {
     "name": "stdout",
     "output_type": "stream",
     "text": [
      "True Distribution : \n",
      " {32.5: 54, 17.5: 28, 37.5: 63, 22.5: 59, 42.5: 25, 27.5: 72, 47.5: 2}\n",
      "\n",
      "Estimated distribution based on TuborWeight :\n",
      " {32.5: 53.27822655718223, 17.5: 29.752785989336033, 37.5: 66.8024110577931, 22.5: 57.27567820007481, 42.5: 21.45108994420267, 27.5: 71.15077886331413, 47.5: 3.289029388097007}\n",
      "KL Divergence of categorical distribution :\n",
      " 0.0025457348122189826\n",
      "\n",
      "Estimated distribution based on CubeRoot :\n",
      " {32.5: 53.69308723516428, 17.5: 29.155539016212213, 37.5: 69.17044249708555, 22.5: 58.842572419724874, 42.5: 20.589883899203837, 27.5: 68.22898578269398, 47.5: 3.319489149915194}\n",
      "KL Divergence of categorical distribution :\n",
      " 0.003823010347334399\n"
     ]
    }
   ],
   "source": [
    "pseudo_v_w = get_pseudo_counts(band_to_samples_venezia_w, df_venezia['TuberWeight'])\n",
    "pseudo_v_cr = get_pseudo_counts(band_to_samples_venezia_cr, df_venezia['CubeRoot'])\n",
    "\n",
    "print('True Distribution : \\n', dict(true_dist_venezia))\n",
    "print()\n",
    "print('Estimated distribution based on TuborWeight :\\n', pseudo_v_w)\n",
    "print('KL Divergence of categorical distribution :\\n', calculate_KL(pseudo_v_w, true_dist_venezia))\n",
    "#print('W Distance of categorical distribution :\\n', calculate_W(pseudo_v_w, true_dist_venezia))\n",
    "print()\n",
    "print('Estimated distribution based on CubeRoot :\\n', pseudo_v_cr)\n",
    "print('KL Divergence of categorical distribution :\\n', calculate_KL(pseudo_v_cr, true_dist_venezia))\n",
    "#print('W Distance of categorical distribution :\\n', calculate_W(pseudo_v_cr, true_dist_venezia))"
   ]
  },
  {
   "cell_type": "code",
   "execution_count": 33,
   "metadata": {},
   "outputs": [
    {
     "name": "stdout",
     "output_type": "stream",
     "text": [
      "53.69\n",
      "29.16\n",
      "69.17\n",
      "58.84\n",
      "20.59\n",
      "68.23\n",
      "3.32\n"
     ]
    }
   ],
   "source": [
    "for x in pseudo_v_w:\n",
    "    print(round(pseudo_v_cr[x],2))\n",
    "    \n",
    "    "
   ]
  },
  {
   "cell_type": "code",
   "execution_count": 34,
   "metadata": {},
   "outputs": [
    {
     "name": "stdout",
     "output_type": "stream",
     "text": [
      "True Distribution : \n",
      " {32.5: 3, 17.5: 11, 67.5: 1, 52.5: 46, 37.5: 13, 22.5: 3, 57.5: 22, 42.5: 16, 27.5: 2, 62.5: 11, 47.5: 37}\n",
      "\n",
      "Estimated distribution based on TuborWeight :\n",
      " {32.5: 4.938587989687508, 17.5: 11.14882721636118, 67.5: 0.9923182759638545, 52.5: 48.070915556681435, 37.5: 11.28060894987548, 22.5: 2.851461393308298, 57.5: 19.281845622973414, 42.5: 17.14134542837935, 27.5: 1.999641699112065, 62.5: 13.752084886211712, 47.5: 33.542362981445685}\n",
      "KL Divergence of categorical distribution :\n",
      " 0.007929621923797913\n",
      "\n",
      "Estimated distribution based on CubeRoot :\n",
      " {32.5: 3.3307561970876027, 17.5: 9.5630230779995, 67.5: 1.3430026613756625, 52.5: 47.47415393837573, 37.5: 14.121155306557219, 22.5: 4.387697622027692, 57.5: 23.97257852229002, 42.5: 15.092538630524619, 27.5: 2.008791963417285, 62.5: 9.083104867577914, 47.5: 34.623197212766776}\n",
      "KL Divergence of categorical distribution :\n",
      " 0.005232735236187921\n"
     ]
    }
   ],
   "source": [
    "pseudo_s_w = get_pseudo_counts(band_to_samples_soraya_w, df_soraya['TuberWeight'])\n",
    "pseudo_s_cr = get_pseudo_counts(band_to_samples_soraya_cr, df_soraya['CubeRoot'])\n",
    "\n",
    "print('True Distribution : \\n', dict(true_dist_soraya))\n",
    "print()\n",
    "print('Estimated distribution based on TuborWeight :\\n', pseudo_s_w)\n",
    "print('KL Divergence of categorical distribution :\\n', calculate_KL(pseudo_s_w, true_dist_soraya))\n",
    "#print('W Distance of categorical distribution :\\n', calculate_W(pseudo_s_w, true_dist_soraya))\n",
    "\n",
    "print()\n",
    "print('Estimated distribution based on CubeRoot :\\n', pseudo_s_cr)\n",
    "print('KL Divergence of categorical distribution :\\n', calculate_KL(pseudo_s_cr, true_dist_soraya))\n",
    "#print('W Distance of categorical distribution :\\n', calculate_W(pseudo_s_cr, true_dist_soraya))\n"
   ]
  },
  {
   "cell_type": "code",
   "execution_count": 63,
   "metadata": {},
   "outputs": [
    {
     "name": "stdout",
     "output_type": "stream",
     "text": [
      "9.34\n",
      "4.64\n",
      "2.02\n",
      "3.92\n",
      "13.24\n",
      "15.05\n",
      "41.88\n",
      "35.98\n",
      "25.63\n",
      "12.24\n",
      "1.06\n"
     ]
    }
   ],
   "source": []
  },
  {
   "cell_type": "code",
   "execution_count": null,
   "metadata": {
    "collapsed": true
   },
   "outputs": [],
   "source": []
  }
 ],
 "metadata": {
  "kernelspec": {
   "display_name": "Python 3",
   "language": "python",
   "name": "python3"
  },
  "language_info": {
   "codemirror_mode": {
    "name": "ipython",
    "version": 3
   },
   "file_extension": ".py",
   "mimetype": "text/x-python",
   "name": "python",
   "nbconvert_exporter": "python",
   "pygments_lexer": "ipython3",
   "version": "3.6.3"
  }
 },
 "nbformat": 4,
 "nbformat_minor": 2
}
