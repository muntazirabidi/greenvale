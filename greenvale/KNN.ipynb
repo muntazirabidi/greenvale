{
 "cells": [
  {
   "cell_type": "code",
   "execution_count": 1,
   "metadata": {
    "collapsed": true
   },
   "outputs": [],
   "source": [
    "import numpy as np\n",
    "import matplotlib.pyplot as plt\n",
    "import pandas as pd\n",
    "import csv\n",
    "import scipy.stats\n",
    "\n",
    "from IPython.display import HTML, display\n",
    "\n",
    "from openpyxl.utils.dataframe import dataframe_to_rows\n",
    "from openpyxl import load_workbook"
   ]
  },
  {
   "cell_type": "markdown",
   "metadata": {},
   "source": [
    "## Field name -- by Vaieties\n",
    "Maris Piper: 'R21', '582', 'M12', 'Duffy'\n",
    "\n",
    "Soraya : 'Somerlayton', 'Year 1 trial field', 'Yr 1 variety trial', 'Field', 'Failey 1'\n",
    "\n",
    "Jelly: 'Franklin', 'Irby Hall Nort', 'Middle Allotement', 'RHP', 'Somerlayton'\n",
    "\n",
    "Venezia: 'Chanters Hole', 'Hanger Blackdyke', 'Hanger Blackdyke', 'HS2', 'Lovers Pightle', 'TurnPike', 'wortley', 'NSB Trial 1'\n",
    "\n",
    "Marfona:\n",
    "\n",
    "Lady Balfour:\n",
    "\n",
    "Orchestra:\n",
    "\n"
   ]
  },
  {
   "cell_type": "code",
   "execution_count": 21,
   "metadata": {},
   "outputs": [
    {
     "ename": "FileNotFoundError",
     "evalue": "[Errno 2] No such file or directory: 'MarisPiper_TuberData.csv'",
     "output_type": "error",
     "traceback": [
      "\u001b[0;31m---------------------------------------------------------------------------\u001b[0m",
      "\u001b[0;31mFileNotFoundError\u001b[0m                         Traceback (most recent call last)",
      "\u001b[0;32m<ipython-input-21-a0645cb59242>\u001b[0m in \u001b[0;36m<module>\u001b[0;34m()\u001b[0m\n\u001b[1;32m      8\u001b[0m \u001b[0mvariety_names\u001b[0m \u001b[0;34m=\u001b[0m \u001b[0;34m[\u001b[0m\u001b[0;34m'MarisPiper'\u001b[0m\u001b[0;34m,\u001b[0m \u001b[0;34m'Jelly'\u001b[0m\u001b[0;34m,\u001b[0m\u001b[0;34m'Soraya'\u001b[0m\u001b[0;34m,\u001b[0m \u001b[0;34m'Venezia'\u001b[0m\u001b[0;34m,\u001b[0m\u001b[0;34m'Marfona'\u001b[0m\u001b[0;34m,\u001b[0m\u001b[0;34m'Orchestra'\u001b[0m\u001b[0;34m,\u001b[0m\u001b[0;34m'LadyBalfour'\u001b[0m\u001b[0;34m]\u001b[0m\u001b[0;34m\u001b[0m\u001b[0m\n\u001b[1;32m      9\u001b[0m \u001b[0;34m\u001b[0m\u001b[0m\n\u001b[0;32m---> 10\u001b[0;31m \u001b[0mwb\u001b[0m \u001b[0;34m=\u001b[0m \u001b[0mload_batch_data\u001b[0m\u001b[0;34m(\u001b[0m\u001b[0mvariety_names\u001b[0m\u001b[0;34m[\u001b[0m\u001b[0;36m0\u001b[0m\u001b[0;34m]\u001b[0m\u001b[0;34m)\u001b[0m\u001b[0;34m\u001b[0m\u001b[0m\n\u001b[0m",
      "\u001b[0;32m<ipython-input-21-a0645cb59242>\u001b[0m in \u001b[0;36mload_batch_data\u001b[0;34m(variety_name)\u001b[0m\n\u001b[1;32m      2\u001b[0m \u001b[0;34m\u001b[0m\u001b[0m\n\u001b[1;32m      3\u001b[0m \u001b[0;32mdef\u001b[0m \u001b[0mload_batch_data\u001b[0m\u001b[0;34m(\u001b[0m\u001b[0mvariety_name\u001b[0m\u001b[0;34m)\u001b[0m\u001b[0;34m:\u001b[0m\u001b[0;34m\u001b[0m\u001b[0m\n\u001b[0;32m----> 4\u001b[0;31m     \u001b[0;32mwith\u001b[0m \u001b[0mopen\u001b[0m\u001b[0;34m(\u001b[0m\u001b[0mvariety_name\u001b[0m\u001b[0;34m+\u001b[0m\u001b[0;34m\"_TuberData.csv\"\u001b[0m\u001b[0;34m,\u001b[0m\u001b[0;34m'r'\u001b[0m\u001b[0;34m)\u001b[0m \u001b[0;32mas\u001b[0m \u001b[0mcsvfile\u001b[0m\u001b[0;34m:\u001b[0m\u001b[0;34m\u001b[0m\u001b[0m\n\u001b[0m\u001b[1;32m      5\u001b[0m         \u001b[0mbatch_data\u001b[0m \u001b[0;34m=\u001b[0m \u001b[0mpd\u001b[0m\u001b[0;34m.\u001b[0m\u001b[0mread_csv\u001b[0m\u001b[0;34m(\u001b[0m\u001b[0mcsvfile\u001b[0m\u001b[0;34m)\u001b[0m\u001b[0;34m\u001b[0m\u001b[0m\n\u001b[1;32m      6\u001b[0m     \u001b[0;32mreturn\u001b[0m \u001b[0mbtch_data\u001b[0m\u001b[0;34m\u001b[0m\u001b[0m\n",
      "\u001b[0;31mFileNotFoundError\u001b[0m: [Errno 2] No such file or directory: 'MarisPiper_TuberData.csv'"
     ]
    }
   ],
   "source": [
    "wb2 = load_workbook('CAI_Rawdata_27.07.18.xlsx')\n",
    "\n",
    "def load_batch_data(variety_name):\n",
    "    with open(variety_name+\"_TuberData.csv\",'r') as csvfile:\n",
    "        batch_data = pd.read_csv(csvfile)\n",
    "    return btch_data\n",
    "\n",
    "variety_names = ['MarisPiper', 'Jelly','Soraya', 'Venezia','Marfona','Orchestra','LadyBalfour']\n",
    "\n",
    "wb = load_batch_data(variety_names[0])"
   ]
  },
  {
   "cell_type": "code",
   "execution_count": null,
   "metadata": {
    "collapsed": true
   },
   "outputs": [],
   "source": []
  }
 ],
 "metadata": {
  "kernelspec": {
   "display_name": "Python [default]",
   "language": "python",
   "name": "python3"
  },
  "language_info": {
   "codemirror_mode": {
    "name": "ipython",
    "version": 3
   },
   "file_extension": ".py",
   "mimetype": "text/x-python",
   "name": "python",
   "nbconvert_exporter": "python",
   "pygments_lexer": "ipython3",
   "version": "3.5.3"
  }
 },
 "nbformat": 4,
 "nbformat_minor": 2
}
